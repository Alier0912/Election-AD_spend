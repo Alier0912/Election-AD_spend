{
 "cells": [
  {
   "cell_type": "code",
   "execution_count": 1,
   "id": "9fec07ba",
   "metadata": {},
   "outputs": [],
   "source": [
    "# importing the necessary libraries\n",
    "import numpy as np\n",
    "import matplotlib.pyplot as plt\n",
    "import seaborn as sns\n",
    "import pandas as pd \n"
   ]
  },
  {
   "cell_type": "code",
   "execution_count": 2,
   "id": "7fe18e31",
   "metadata": {},
   "outputs": [],
   "source": [
    "# loading the datasets\n",
    "advertisers = pd.read_csv('advertisers.csv')\n",
    "locations = pd.read_csv('locations.csv')\n",
    "results = pd.read_csv('results.csv')"
   ]
  },
  {
   "cell_type": "code",
   "execution_count": 3,
   "id": "d8bddd16",
   "metadata": {},
   "outputs": [
    {
     "name": "stdout",
     "output_type": "stream",
     "text": [
      "Advertisers Dataset Info:\n",
      "<class 'pandas.core.frame.DataFrame'>\n",
      "RangeIndex: 20832 entries, 0 to 20831\n",
      "Data columns (total 5 columns):\n",
      " #   Column                    Non-Null Count  Dtype \n",
      "---  ------                    --------------  ----- \n",
      " 0   Page ID                   20832 non-null  int64 \n",
      " 1   Page name                 20832 non-null  object\n",
      " 2   Disclaimer                20832 non-null  object\n",
      " 3   Amount spent (INR)        20832 non-null  object\n",
      " 4   Number of ads in Library  20832 non-null  int64 \n",
      "dtypes: int64(2), object(3)\n",
      "memory usage: 813.9+ KB\n",
      "None\n",
      "\n",
      "Locations Dataset Info:\n",
      "<class 'pandas.core.frame.DataFrame'>\n",
      "RangeIndex: 36 entries, 0 to 35\n",
      "Data columns (total 2 columns):\n",
      " #   Column              Non-Null Count  Dtype \n",
      "---  ------              --------------  ----- \n",
      " 0   Location name       36 non-null     object\n",
      " 1   Amount spent (INR)  36 non-null     int64 \n",
      "dtypes: int64(1), object(1)\n",
      "memory usage: 708.0+ bytes\n",
      "None\n",
      "\n",
      "Results Dataset Info:\n",
      "<class 'pandas.core.frame.DataFrame'>\n",
      "RangeIndex: 550 entries, 0 to 549\n",
      "Data columns (total 8 columns):\n",
      " #   Column          Non-Null Count  Dtype  \n",
      "---  ------          --------------  -----  \n",
      " 0   _id             550 non-null    int64  \n",
      " 1   Sl No           543 non-null    float64\n",
      " 2   State           543 non-null    object \n",
      " 3   PC_Name         550 non-null    object \n",
      " 4   Total Electors  550 non-null    int64  \n",
      " 5   Polled (%)      550 non-null    float64\n",
      " 6   Total Votes     550 non-null    int64  \n",
      " 7   Phase           492 non-null    float64\n",
      "dtypes: float64(3), int64(3), object(2)\n",
      "memory usage: 34.5+ KB\n",
      "None\n"
     ]
    }
   ],
   "source": [
    "# Displaying the basic information about the datasets\n",
    "print(\"Advertisers Dataset Info:\")\n",
    "print(advertisers.info())\n",
    "print(\"\\nLocations Dataset Info:\")\n",
    "print(locations.info())\n",
    "print(\"\\nResults Dataset Info:\")\n",
    "print(results.info())"
   ]
  },
  {
   "cell_type": "markdown",
   "id": "2100660b",
   "metadata": {},
   "source": [
    "# 1. Data Cleaning & Preparation"
   ]
  },
  {
   "cell_type": "code",
   "execution_count": 7,
   "id": "8603cb04",
   "metadata": {},
   "outputs": [],
   "source": [
    "# standardizing and cleaning the column names\n",
    "locations['Location name'] = locations['Location name'].str.strip().str.title()\n",
    "results['State'] = results['State'].str.strip().str.title()\n",
    "\n",
    "# No 'Revenue' or 'Cost' columns in results, so nothing to convert here\n"
   ]
  },
  {
   "cell_type": "code",
   "execution_count": 12,
   "id": "e87c873e",
   "metadata": {},
   "outputs": [
    {
     "data": {
      "text/plain": [
       "['Page ID',\n",
       " 'Page name',\n",
       " 'Disclaimer',\n",
       " 'Amount spent (INR)',\n",
       " 'Number of ads in Library']"
      ]
     },
     "execution_count": 12,
     "metadata": {},
     "output_type": "execute_result"
    }
   ],
   "source": [
    "# indentifying the columns for the datasets\n",
    "advertisers_columns = advertisers.columns.tolist()\n",
    "locations_columns = locations.columns.tolist()\n",
    "results_columns = results.columns.tolist()\n",
    "\n",
    "# Displaying the columns of each dataset\n",
    "advertisers_columns\n"
   ]
  },
  {
   "cell_type": "code",
   "execution_count": 10,
   "id": "0c63fc42",
   "metadata": {},
   "outputs": [
    {
     "data": {
      "text/plain": [
       "['Location name', 'Amount spent (INR)']"
      ]
     },
     "execution_count": 10,
     "metadata": {},
     "output_type": "execute_result"
    }
   ],
   "source": [
    "locations_columns\n"
   ]
  },
  {
   "cell_type": "code",
   "execution_count": 11,
   "id": "265434ea",
   "metadata": {},
   "outputs": [
    {
     "data": {
      "text/plain": [
       "['_id',\n",
       " 'Sl No',\n",
       " 'State',\n",
       " 'PC_Name',\n",
       " 'Total Electors',\n",
       " 'Polled (%)',\n",
       " 'Total Votes',\n",
       " 'Phase']"
      ]
     },
     "execution_count": 11,
     "metadata": {},
     "output_type": "execute_result"
    }
   ],
   "source": [
    "results_columns"
   ]
  },
  {
   "cell_type": "markdown",
   "id": "fa2e096e",
   "metadata": {},
   "source": [
    "# 2. Explanatory Analysis"
   ]
  },
  {
   "cell_type": "code",
   "execution_count": null,
   "id": "f2849a4e",
   "metadata": {},
   "outputs": [
    {
     "data": {
      "text/html": [
       "<div>\n",
       "<style scoped>\n",
       "    .dataframe tbody tr th:only-of-type {\n",
       "        vertical-align: middle;\n",
       "    }\n",
       "\n",
       "    .dataframe tbody tr th {\n",
       "        vertical-align: top;\n",
       "    }\n",
       "\n",
       "    .dataframe thead th {\n",
       "        text-align: right;\n",
       "    }\n",
       "</style>\n",
       "<table border=\"1\" class=\"dataframe\">\n",
       "  <thead>\n",
       "    <tr style=\"text-align: right;\">\n",
       "      <th></th>\n",
       "      <th>Location name</th>\n",
       "      <th>Amount spent (INR)</th>\n",
       "    </tr>\n",
       "  </thead>\n",
       "  <tbody>\n",
       "    <tr>\n",
       "      <th>0</th>\n",
       "      <td>Andaman And Nicobar Islands</td>\n",
       "      <td>377858</td>\n",
       "    </tr>\n",
       "    <tr>\n",
       "      <th>1</th>\n",
       "      <td>Andhra Pradesh</td>\n",
       "      <td>100819732</td>\n",
       "    </tr>\n",
       "    <tr>\n",
       "      <th>2</th>\n",
       "      <td>Arunachal Pradesh</td>\n",
       "      <td>1385654</td>\n",
       "    </tr>\n",
       "    <tr>\n",
       "      <th>3</th>\n",
       "      <td>Assam</td>\n",
       "      <td>17478091</td>\n",
       "    </tr>\n",
       "    <tr>\n",
       "      <th>4</th>\n",
       "      <td>Bihar</td>\n",
       "      <td>53619242</td>\n",
       "    </tr>\n",
       "  </tbody>\n",
       "</table>\n",
       "</div>"
      ],
      "text/plain": [
       "                 Location name  Amount spent (INR)\n",
       "0  Andaman And Nicobar Islands              377858\n",
       "1               Andhra Pradesh           100819732\n",
       "2            Arunachal Pradesh             1385654\n",
       "3                        Assam            17478091\n",
       "4                        Bihar            53619242"
      ]
     },
     "execution_count": 18,
     "metadata": {},
     "output_type": "execute_result"
    }
   ],
   "source": [
    "# merging results with locations on 'State'\n",
    "locations.head()\n"
   ]
  },
  {
   "cell_type": "code",
   "execution_count": 21,
   "id": "822e1f74",
   "metadata": {},
   "outputs": [
    {
     "data": {
      "text/html": [
       "<div>\n",
       "<style scoped>\n",
       "    .dataframe tbody tr th:only-of-type {\n",
       "        vertical-align: middle;\n",
       "    }\n",
       "\n",
       "    .dataframe tbody tr th {\n",
       "        vertical-align: top;\n",
       "    }\n",
       "\n",
       "    .dataframe thead th {\n",
       "        text-align: right;\n",
       "    }\n",
       "</style>\n",
       "<table border=\"1\" class=\"dataframe\">\n",
       "  <thead>\n",
       "    <tr style=\"text-align: right;\">\n",
       "      <th></th>\n",
       "      <th>_id</th>\n",
       "      <th>Sl No</th>\n",
       "      <th>State</th>\n",
       "      <th>PC_Name</th>\n",
       "      <th>Total Electors</th>\n",
       "      <th>Polled (%)</th>\n",
       "      <th>Total Votes</th>\n",
       "      <th>Phase</th>\n",
       "    </tr>\n",
       "  </thead>\n",
       "  <tbody>\n",
       "    <tr>\n",
       "      <th>0</th>\n",
       "      <td>1</td>\n",
       "      <td>1.0</td>\n",
       "      <td>Andaman &amp; Nicobar Islands</td>\n",
       "      <td>Andaman &amp; Nicobar Islands</td>\n",
       "      <td>315148</td>\n",
       "      <td>64.10</td>\n",
       "      <td>202018</td>\n",
       "      <td>1.0</td>\n",
       "    </tr>\n",
       "    <tr>\n",
       "      <th>1</th>\n",
       "      <td>2</td>\n",
       "      <td>2.0</td>\n",
       "      <td>Arunachal Pradesh</td>\n",
       "      <td>Arunachal East</td>\n",
       "      <td>375310</td>\n",
       "      <td>83.31</td>\n",
       "      <td>312658</td>\n",
       "      <td>1.0</td>\n",
       "    </tr>\n",
       "    <tr>\n",
       "      <th>2</th>\n",
       "      <td>3</td>\n",
       "      <td>3.0</td>\n",
       "      <td>Arunachal Pradesh</td>\n",
       "      <td>Arunachal West</td>\n",
       "      <td>517384</td>\n",
       "      <td>73.60</td>\n",
       "      <td>380783</td>\n",
       "      <td>1.0</td>\n",
       "    </tr>\n",
       "    <tr>\n",
       "      <th>3</th>\n",
       "      <td>4</td>\n",
       "      <td>4.0</td>\n",
       "      <td>Assam</td>\n",
       "      <td>Dibrugarh</td>\n",
       "      <td>1659588</td>\n",
       "      <td>76.75</td>\n",
       "      <td>1273744</td>\n",
       "      <td>1.0</td>\n",
       "    </tr>\n",
       "    <tr>\n",
       "      <th>4</th>\n",
       "      <td>5</td>\n",
       "      <td>5.0</td>\n",
       "      <td>Assam</td>\n",
       "      <td>Jorhat</td>\n",
       "      <td>1727121</td>\n",
       "      <td>79.89</td>\n",
       "      <td>1379749</td>\n",
       "      <td>1.0</td>\n",
       "    </tr>\n",
       "  </tbody>\n",
       "</table>\n",
       "</div>"
      ],
      "text/plain": [
       "   _id  Sl No                      State                    PC_Name  \\\n",
       "0    1    1.0  Andaman & Nicobar Islands  Andaman & Nicobar Islands   \n",
       "1    2    2.0          Arunachal Pradesh             Arunachal East   \n",
       "2    3    3.0          Arunachal Pradesh             Arunachal West   \n",
       "3    4    4.0                      Assam                  Dibrugarh   \n",
       "4    5    5.0                      Assam                     Jorhat   \n",
       "\n",
       "   Total Electors  Polled (%)  Total Votes  Phase  \n",
       "0          315148       64.10       202018    1.0  \n",
       "1          375310       83.31       312658    1.0  \n",
       "2          517384       73.60       380783    1.0  \n",
       "3         1659588       76.75      1273744    1.0  \n",
       "4         1727121       79.89      1379749    1.0  "
      ]
     },
     "execution_count": 21,
     "metadata": {},
     "output_type": "execute_result"
    }
   ],
   "source": [
    "results.head()\n"
   ]
  },
  {
   "cell_type": "code",
   "execution_count": 22,
   "id": "3e2626c7",
   "metadata": {},
   "outputs": [
    {
     "data": {
      "text/html": [
       "<div>\n",
       "<style scoped>\n",
       "    .dataframe tbody tr th:only-of-type {\n",
       "        vertical-align: middle;\n",
       "    }\n",
       "\n",
       "    .dataframe tbody tr th {\n",
       "        vertical-align: top;\n",
       "    }\n",
       "\n",
       "    .dataframe thead th {\n",
       "        text-align: right;\n",
       "    }\n",
       "</style>\n",
       "<table border=\"1\" class=\"dataframe\">\n",
       "  <thead>\n",
       "    <tr style=\"text-align: right;\">\n",
       "      <th></th>\n",
       "      <th>Page ID</th>\n",
       "      <th>Page name</th>\n",
       "      <th>Disclaimer</th>\n",
       "      <th>Amount spent (INR)</th>\n",
       "      <th>Number of ads in Library</th>\n",
       "    </tr>\n",
       "  </thead>\n",
       "  <tbody>\n",
       "    <tr>\n",
       "      <th>0</th>\n",
       "      <td>121439954563203</td>\n",
       "      <td>Bharatiya Janata Party (BJP)</td>\n",
       "      <td>Bharatiya Janata Party (BJP)</td>\n",
       "      <td>193854342</td>\n",
       "      <td>43455</td>\n",
       "    </tr>\n",
       "    <tr>\n",
       "      <th>1</th>\n",
       "      <td>351616078284404</td>\n",
       "      <td>Indian National Congress</td>\n",
       "      <td>Indian National Congress</td>\n",
       "      <td>108787100</td>\n",
       "      <td>846</td>\n",
       "    </tr>\n",
       "    <tr>\n",
       "      <th>2</th>\n",
       "      <td>132715103269897</td>\n",
       "      <td>Ama Chinha Sankha Chinha</td>\n",
       "      <td>Ama Chinha Sankha Chinha</td>\n",
       "      <td>73361399</td>\n",
       "      <td>1799</td>\n",
       "    </tr>\n",
       "    <tr>\n",
       "      <th>3</th>\n",
       "      <td>192856493908290</td>\n",
       "      <td>Ama Chinha Sankha Chinha</td>\n",
       "      <td>Ama Chinha Sankha Chinha</td>\n",
       "      <td>32294327</td>\n",
       "      <td>680</td>\n",
       "    </tr>\n",
       "    <tr>\n",
       "      <th>4</th>\n",
       "      <td>109470364774303</td>\n",
       "      <td>Ellorum Nammudan</td>\n",
       "      <td>Populus Empowerment Network Private Limited</td>\n",
       "      <td>22399499</td>\n",
       "      <td>879</td>\n",
       "    </tr>\n",
       "  </tbody>\n",
       "</table>\n",
       "</div>"
      ],
      "text/plain": [
       "           Page ID                     Page name  \\\n",
       "0  121439954563203  Bharatiya Janata Party (BJP)   \n",
       "1  351616078284404      Indian National Congress   \n",
       "2  132715103269897      Ama Chinha Sankha Chinha   \n",
       "3  192856493908290      Ama Chinha Sankha Chinha   \n",
       "4  109470364774303              Ellorum Nammudan   \n",
       "\n",
       "                                    Disclaimer Amount spent (INR)  \\\n",
       "0                 Bharatiya Janata Party (BJP)          193854342   \n",
       "1                     Indian National Congress          108787100   \n",
       "2                     Ama Chinha Sankha Chinha           73361399   \n",
       "3                     Ama Chinha Sankha Chinha           32294327   \n",
       "4  Populus Empowerment Network Private Limited           22399499   \n",
       "\n",
       "   Number of ads in Library  \n",
       "0                     43455  \n",
       "1                       846  \n",
       "2                      1799  \n",
       "3                       680  \n",
       "4                       879  "
      ]
     },
     "execution_count": 22,
     "metadata": {},
     "output_type": "execute_result"
    }
   ],
   "source": [
    "advertisers.head()"
   ]
  },
  {
   "cell_type": "code",
   "execution_count": 24,
   "id": "061a3ca0",
   "metadata": {},
   "outputs": [],
   "source": [
    "# merging the datasets\n",
    "locations['Location name'] = locations['Location name'].str.strip().str.lower()\n",
    "results['State'] = results['State'].str.strip().str.lower()\n",
    "merged_data = results.merge(locations, left_on='State', right_on='Location name', how='left')"
   ]
  },
  {
   "cell_type": "code",
   "execution_count": 25,
   "id": "c7db0819",
   "metadata": {},
   "outputs": [
    {
     "data": {
      "text/html": [
       "<div>\n",
       "<style scoped>\n",
       "    .dataframe tbody tr th:only-of-type {\n",
       "        vertical-align: middle;\n",
       "    }\n",
       "\n",
       "    .dataframe tbody tr th {\n",
       "        vertical-align: top;\n",
       "    }\n",
       "\n",
       "    .dataframe thead th {\n",
       "        text-align: right;\n",
       "    }\n",
       "</style>\n",
       "<table border=\"1\" class=\"dataframe\">\n",
       "  <thead>\n",
       "    <tr style=\"text-align: right;\">\n",
       "      <th></th>\n",
       "      <th>_id</th>\n",
       "      <th>Sl No</th>\n",
       "      <th>State</th>\n",
       "      <th>PC_Name</th>\n",
       "      <th>Total Electors</th>\n",
       "      <th>Polled (%)</th>\n",
       "      <th>Total Votes</th>\n",
       "      <th>Phase</th>\n",
       "      <th>Location name</th>\n",
       "      <th>Amount spent (INR)</th>\n",
       "    </tr>\n",
       "  </thead>\n",
       "  <tbody>\n",
       "    <tr>\n",
       "      <th>0</th>\n",
       "      <td>1</td>\n",
       "      <td>1.0</td>\n",
       "      <td>andaman &amp; nicobar islands</td>\n",
       "      <td>Andaman &amp; Nicobar Islands</td>\n",
       "      <td>315148</td>\n",
       "      <td>64.10</td>\n",
       "      <td>202018</td>\n",
       "      <td>1.0</td>\n",
       "      <td>NaN</td>\n",
       "      <td>NaN</td>\n",
       "    </tr>\n",
       "    <tr>\n",
       "      <th>1</th>\n",
       "      <td>2</td>\n",
       "      <td>2.0</td>\n",
       "      <td>arunachal pradesh</td>\n",
       "      <td>Arunachal East</td>\n",
       "      <td>375310</td>\n",
       "      <td>83.31</td>\n",
       "      <td>312658</td>\n",
       "      <td>1.0</td>\n",
       "      <td>arunachal pradesh</td>\n",
       "      <td>1385654.0</td>\n",
       "    </tr>\n",
       "    <tr>\n",
       "      <th>2</th>\n",
       "      <td>3</td>\n",
       "      <td>3.0</td>\n",
       "      <td>arunachal pradesh</td>\n",
       "      <td>Arunachal West</td>\n",
       "      <td>517384</td>\n",
       "      <td>73.60</td>\n",
       "      <td>380783</td>\n",
       "      <td>1.0</td>\n",
       "      <td>arunachal pradesh</td>\n",
       "      <td>1385654.0</td>\n",
       "    </tr>\n",
       "    <tr>\n",
       "      <th>3</th>\n",
       "      <td>4</td>\n",
       "      <td>4.0</td>\n",
       "      <td>assam</td>\n",
       "      <td>Dibrugarh</td>\n",
       "      <td>1659588</td>\n",
       "      <td>76.75</td>\n",
       "      <td>1273744</td>\n",
       "      <td>1.0</td>\n",
       "      <td>assam</td>\n",
       "      <td>17478091.0</td>\n",
       "    </tr>\n",
       "    <tr>\n",
       "      <th>4</th>\n",
       "      <td>5</td>\n",
       "      <td>5.0</td>\n",
       "      <td>assam</td>\n",
       "      <td>Jorhat</td>\n",
       "      <td>1727121</td>\n",
       "      <td>79.89</td>\n",
       "      <td>1379749</td>\n",
       "      <td>1.0</td>\n",
       "      <td>assam</td>\n",
       "      <td>17478091.0</td>\n",
       "    </tr>\n",
       "  </tbody>\n",
       "</table>\n",
       "</div>"
      ],
      "text/plain": [
       "   _id  Sl No                      State                    PC_Name  \\\n",
       "0    1    1.0  andaman & nicobar islands  Andaman & Nicobar Islands   \n",
       "1    2    2.0          arunachal pradesh             Arunachal East   \n",
       "2    3    3.0          arunachal pradesh             Arunachal West   \n",
       "3    4    4.0                      assam                  Dibrugarh   \n",
       "4    5    5.0                      assam                     Jorhat   \n",
       "\n",
       "   Total Electors  Polled (%)  Total Votes  Phase      Location name  \\\n",
       "0          315148       64.10       202018    1.0                NaN   \n",
       "1          375310       83.31       312658    1.0  arunachal pradesh   \n",
       "2          517384       73.60       380783    1.0  arunachal pradesh   \n",
       "3         1659588       76.75      1273744    1.0              assam   \n",
       "4         1727121       79.89      1379749    1.0              assam   \n",
       "\n",
       "   Amount spent (INR)  \n",
       "0                 NaN  \n",
       "1           1385654.0  \n",
       "2           1385654.0  \n",
       "3          17478091.0  \n",
       "4          17478091.0  "
      ]
     },
     "execution_count": 25,
     "metadata": {},
     "output_type": "execute_result"
    }
   ],
   "source": [
    "# viewing the merged data\n",
    "merged_data.head()"
   ]
  },
  {
   "cell_type": "code",
   "execution_count": 28,
   "id": "81e1cde1",
   "metadata": {},
   "outputs": [],
   "source": [
    "# total ad spend by state\n",
    "state_ad_spend = merged_data.groupby('State')['Amount spent (INR)'].sum().reset_index()"
   ]
  },
  {
   "cell_type": "code",
   "execution_count": 36,
   "id": "2ab7d0a7",
   "metadata": {},
   "outputs": [
    {
     "data": {
      "application/vnd.plotly.v1+json": {
       "config": {
        "plotlyServerURL": "https://plot.ly"
       },
       "data": [
        {
         "hovertemplate": "State=%{x}<br>Ad Spend (INR)=%{y}<extra></extra>",
         "legendgroup": "",
         "marker": {
          "color": "#636efa",
          "pattern": {
           "shape": ""
          }
         },
         "name": "",
         "orientation": "v",
         "showlegend": false,
         "textposition": "auto",
         "type": "bar",
         "x": [
          "andaman & nicobar islands",
          "andhra pradesh",
          "arunachal pradesh",
          "assam",
          "bihar",
          "chandigarh",
          "chhattisgarh",
          "dadra & nagar haveli and\ndaman & diu",
          "goa",
          "gujarat",
          "haryana",
          "himachal pradesh",
          "jammu and kashmir",
          "jharkhand",
          "karnataka",
          "kerala",
          "ladakh",
          "lakshadweep",
          "madhya pradesh",
          "maharashtra",
          "manipur",
          "meghalaya",
          "mizoram",
          "nagaland",
          "nct of delhi",
          "odisha",
          "puducherry",
          "punjab",
          "rajasthan",
          "sikkim",
          "tamil nadu",
          "telangana",
          "tripura",
          "uttar pradesh",
          "uttarakhand",
          "west bengal"
         ],
         "xaxis": "x",
         "y": {
          "bdata": "AAAAAAAAAAAAAICedcfiQQAAAAC2JEVBAAAANHIrrUEAAACkpfXfQQAAAIC+0lhBAAAAZF1po0EAAAAAAAAAAAAAAID4glBBAACAb4gezkEAAAA+Yti4QQAAAAAM6YZBAAAAkDJaf0EAAAC0WVarQQAAACO0YdFBAAAA1MAJu0EAAAAAAAAAAAAAAADAYdNAAAAA5kRI0UEAAADpZDnyQQAAAABZWURBAAAAAPj7OkEAAAAAcFwdQQAAAAAESSJBAAAAAAAAAAAAACDz4TPsQQAAAAC4bjdBAAAAAAAAAAAAAIDVTr/OQQAAAECotFBBAAAA7rFD5kEAAAADI5zLQQAAAACzV0xBAAAAryK5+kEAAAAodQaBQQAAAOX9K+hB",
          "dtype": "f8"
         },
         "yaxis": "y"
        }
       ],
       "layout": {
        "barmode": "relative",
        "height": 600,
        "legend": {
         "tracegroupgap": 0
        },
        "template": {
         "data": {
          "bar": [
           {
            "error_x": {
             "color": "#2a3f5f"
            },
            "error_y": {
             "color": "#2a3f5f"
            },
            "marker": {
             "line": {
              "color": "white",
              "width": 0.5
             },
             "pattern": {
              "fillmode": "overlay",
              "size": 10,
              "solidity": 0.2
             }
            },
            "type": "bar"
           }
          ],
          "barpolar": [
           {
            "marker": {
             "line": {
              "color": "white",
              "width": 0.5
             },
             "pattern": {
              "fillmode": "overlay",
              "size": 10,
              "solidity": 0.2
             }
            },
            "type": "barpolar"
           }
          ],
          "carpet": [
           {
            "aaxis": {
             "endlinecolor": "#2a3f5f",
             "gridcolor": "#C8D4E3",
             "linecolor": "#C8D4E3",
             "minorgridcolor": "#C8D4E3",
             "startlinecolor": "#2a3f5f"
            },
            "baxis": {
             "endlinecolor": "#2a3f5f",
             "gridcolor": "#C8D4E3",
             "linecolor": "#C8D4E3",
             "minorgridcolor": "#C8D4E3",
             "startlinecolor": "#2a3f5f"
            },
            "type": "carpet"
           }
          ],
          "choropleth": [
           {
            "colorbar": {
             "outlinewidth": 0,
             "ticks": ""
            },
            "type": "choropleth"
           }
          ],
          "contour": [
           {
            "colorbar": {
             "outlinewidth": 0,
             "ticks": ""
            },
            "colorscale": [
             [
              0,
              "#0d0887"
             ],
             [
              0.1111111111111111,
              "#46039f"
             ],
             [
              0.2222222222222222,
              "#7201a8"
             ],
             [
              0.3333333333333333,
              "#9c179e"
             ],
             [
              0.4444444444444444,
              "#bd3786"
             ],
             [
              0.5555555555555556,
              "#d8576b"
             ],
             [
              0.6666666666666666,
              "#ed7953"
             ],
             [
              0.7777777777777778,
              "#fb9f3a"
             ],
             [
              0.8888888888888888,
              "#fdca26"
             ],
             [
              1,
              "#f0f921"
             ]
            ],
            "type": "contour"
           }
          ],
          "contourcarpet": [
           {
            "colorbar": {
             "outlinewidth": 0,
             "ticks": ""
            },
            "type": "contourcarpet"
           }
          ],
          "heatmap": [
           {
            "colorbar": {
             "outlinewidth": 0,
             "ticks": ""
            },
            "colorscale": [
             [
              0,
              "#0d0887"
             ],
             [
              0.1111111111111111,
              "#46039f"
             ],
             [
              0.2222222222222222,
              "#7201a8"
             ],
             [
              0.3333333333333333,
              "#9c179e"
             ],
             [
              0.4444444444444444,
              "#bd3786"
             ],
             [
              0.5555555555555556,
              "#d8576b"
             ],
             [
              0.6666666666666666,
              "#ed7953"
             ],
             [
              0.7777777777777778,
              "#fb9f3a"
             ],
             [
              0.8888888888888888,
              "#fdca26"
             ],
             [
              1,
              "#f0f921"
             ]
            ],
            "type": "heatmap"
           }
          ],
          "histogram": [
           {
            "marker": {
             "pattern": {
              "fillmode": "overlay",
              "size": 10,
              "solidity": 0.2
             }
            },
            "type": "histogram"
           }
          ],
          "histogram2d": [
           {
            "colorbar": {
             "outlinewidth": 0,
             "ticks": ""
            },
            "colorscale": [
             [
              0,
              "#0d0887"
             ],
             [
              0.1111111111111111,
              "#46039f"
             ],
             [
              0.2222222222222222,
              "#7201a8"
             ],
             [
              0.3333333333333333,
              "#9c179e"
             ],
             [
              0.4444444444444444,
              "#bd3786"
             ],
             [
              0.5555555555555556,
              "#d8576b"
             ],
             [
              0.6666666666666666,
              "#ed7953"
             ],
             [
              0.7777777777777778,
              "#fb9f3a"
             ],
             [
              0.8888888888888888,
              "#fdca26"
             ],
             [
              1,
              "#f0f921"
             ]
            ],
            "type": "histogram2d"
           }
          ],
          "histogram2dcontour": [
           {
            "colorbar": {
             "outlinewidth": 0,
             "ticks": ""
            },
            "colorscale": [
             [
              0,
              "#0d0887"
             ],
             [
              0.1111111111111111,
              "#46039f"
             ],
             [
              0.2222222222222222,
              "#7201a8"
             ],
             [
              0.3333333333333333,
              "#9c179e"
             ],
             [
              0.4444444444444444,
              "#bd3786"
             ],
             [
              0.5555555555555556,
              "#d8576b"
             ],
             [
              0.6666666666666666,
              "#ed7953"
             ],
             [
              0.7777777777777778,
              "#fb9f3a"
             ],
             [
              0.8888888888888888,
              "#fdca26"
             ],
             [
              1,
              "#f0f921"
             ]
            ],
            "type": "histogram2dcontour"
           }
          ],
          "mesh3d": [
           {
            "colorbar": {
             "outlinewidth": 0,
             "ticks": ""
            },
            "type": "mesh3d"
           }
          ],
          "parcoords": [
           {
            "line": {
             "colorbar": {
              "outlinewidth": 0,
              "ticks": ""
             }
            },
            "type": "parcoords"
           }
          ],
          "pie": [
           {
            "automargin": true,
            "type": "pie"
           }
          ],
          "scatter": [
           {
            "fillpattern": {
             "fillmode": "overlay",
             "size": 10,
             "solidity": 0.2
            },
            "type": "scatter"
           }
          ],
          "scatter3d": [
           {
            "line": {
             "colorbar": {
              "outlinewidth": 0,
              "ticks": ""
             }
            },
            "marker": {
             "colorbar": {
              "outlinewidth": 0,
              "ticks": ""
             }
            },
            "type": "scatter3d"
           }
          ],
          "scattercarpet": [
           {
            "marker": {
             "colorbar": {
              "outlinewidth": 0,
              "ticks": ""
             }
            },
            "type": "scattercarpet"
           }
          ],
          "scattergeo": [
           {
            "marker": {
             "colorbar": {
              "outlinewidth": 0,
              "ticks": ""
             }
            },
            "type": "scattergeo"
           }
          ],
          "scattergl": [
           {
            "marker": {
             "colorbar": {
              "outlinewidth": 0,
              "ticks": ""
             }
            },
            "type": "scattergl"
           }
          ],
          "scattermap": [
           {
            "marker": {
             "colorbar": {
              "outlinewidth": 0,
              "ticks": ""
             }
            },
            "type": "scattermap"
           }
          ],
          "scattermapbox": [
           {
            "marker": {
             "colorbar": {
              "outlinewidth": 0,
              "ticks": ""
             }
            },
            "type": "scattermapbox"
           }
          ],
          "scatterpolar": [
           {
            "marker": {
             "colorbar": {
              "outlinewidth": 0,
              "ticks": ""
             }
            },
            "type": "scatterpolar"
           }
          ],
          "scatterpolargl": [
           {
            "marker": {
             "colorbar": {
              "outlinewidth": 0,
              "ticks": ""
             }
            },
            "type": "scatterpolargl"
           }
          ],
          "scatterternary": [
           {
            "marker": {
             "colorbar": {
              "outlinewidth": 0,
              "ticks": ""
             }
            },
            "type": "scatterternary"
           }
          ],
          "surface": [
           {
            "colorbar": {
             "outlinewidth": 0,
             "ticks": ""
            },
            "colorscale": [
             [
              0,
              "#0d0887"
             ],
             [
              0.1111111111111111,
              "#46039f"
             ],
             [
              0.2222222222222222,
              "#7201a8"
             ],
             [
              0.3333333333333333,
              "#9c179e"
             ],
             [
              0.4444444444444444,
              "#bd3786"
             ],
             [
              0.5555555555555556,
              "#d8576b"
             ],
             [
              0.6666666666666666,
              "#ed7953"
             ],
             [
              0.7777777777777778,
              "#fb9f3a"
             ],
             [
              0.8888888888888888,
              "#fdca26"
             ],
             [
              1,
              "#f0f921"
             ]
            ],
            "type": "surface"
           }
          ],
          "table": [
           {
            "cells": {
             "fill": {
              "color": "#EBF0F8"
             },
             "line": {
              "color": "white"
             }
            },
            "header": {
             "fill": {
              "color": "#C8D4E3"
             },
             "line": {
              "color": "white"
             }
            },
            "type": "table"
           }
          ]
         },
         "layout": {
          "annotationdefaults": {
           "arrowcolor": "#2a3f5f",
           "arrowhead": 0,
           "arrowwidth": 1
          },
          "autotypenumbers": "strict",
          "coloraxis": {
           "colorbar": {
            "outlinewidth": 0,
            "ticks": ""
           }
          },
          "colorscale": {
           "diverging": [
            [
             0,
             "#8e0152"
            ],
            [
             0.1,
             "#c51b7d"
            ],
            [
             0.2,
             "#de77ae"
            ],
            [
             0.3,
             "#f1b6da"
            ],
            [
             0.4,
             "#fde0ef"
            ],
            [
             0.5,
             "#f7f7f7"
            ],
            [
             0.6,
             "#e6f5d0"
            ],
            [
             0.7,
             "#b8e186"
            ],
            [
             0.8,
             "#7fbc41"
            ],
            [
             0.9,
             "#4d9221"
            ],
            [
             1,
             "#276419"
            ]
           ],
           "sequential": [
            [
             0,
             "#0d0887"
            ],
            [
             0.1111111111111111,
             "#46039f"
            ],
            [
             0.2222222222222222,
             "#7201a8"
            ],
            [
             0.3333333333333333,
             "#9c179e"
            ],
            [
             0.4444444444444444,
             "#bd3786"
            ],
            [
             0.5555555555555556,
             "#d8576b"
            ],
            [
             0.6666666666666666,
             "#ed7953"
            ],
            [
             0.7777777777777778,
             "#fb9f3a"
            ],
            [
             0.8888888888888888,
             "#fdca26"
            ],
            [
             1,
             "#f0f921"
            ]
           ],
           "sequentialminus": [
            [
             0,
             "#0d0887"
            ],
            [
             0.1111111111111111,
             "#46039f"
            ],
            [
             0.2222222222222222,
             "#7201a8"
            ],
            [
             0.3333333333333333,
             "#9c179e"
            ],
            [
             0.4444444444444444,
             "#bd3786"
            ],
            [
             0.5555555555555556,
             "#d8576b"
            ],
            [
             0.6666666666666666,
             "#ed7953"
            ],
            [
             0.7777777777777778,
             "#fb9f3a"
            ],
            [
             0.8888888888888888,
             "#fdca26"
            ],
            [
             1,
             "#f0f921"
            ]
           ]
          },
          "colorway": [
           "#636efa",
           "#EF553B",
           "#00cc96",
           "#ab63fa",
           "#FFA15A",
           "#19d3f3",
           "#FF6692",
           "#B6E880",
           "#FF97FF",
           "#FECB52"
          ],
          "font": {
           "color": "#2a3f5f"
          },
          "geo": {
           "bgcolor": "white",
           "lakecolor": "white",
           "landcolor": "white",
           "showlakes": true,
           "showland": true,
           "subunitcolor": "#C8D4E3"
          },
          "hoverlabel": {
           "align": "left"
          },
          "hovermode": "closest",
          "mapbox": {
           "style": "light"
          },
          "paper_bgcolor": "white",
          "plot_bgcolor": "white",
          "polar": {
           "angularaxis": {
            "gridcolor": "#EBF0F8",
            "linecolor": "#EBF0F8",
            "ticks": ""
           },
           "bgcolor": "white",
           "radialaxis": {
            "gridcolor": "#EBF0F8",
            "linecolor": "#EBF0F8",
            "ticks": ""
           }
          },
          "scene": {
           "xaxis": {
            "backgroundcolor": "white",
            "gridcolor": "#DFE8F3",
            "gridwidth": 2,
            "linecolor": "#EBF0F8",
            "showbackground": true,
            "ticks": "",
            "zerolinecolor": "#EBF0F8"
           },
           "yaxis": {
            "backgroundcolor": "white",
            "gridcolor": "#DFE8F3",
            "gridwidth": 2,
            "linecolor": "#EBF0F8",
            "showbackground": true,
            "ticks": "",
            "zerolinecolor": "#EBF0F8"
           },
           "zaxis": {
            "backgroundcolor": "white",
            "gridcolor": "#DFE8F3",
            "gridwidth": 2,
            "linecolor": "#EBF0F8",
            "showbackground": true,
            "ticks": "",
            "zerolinecolor": "#EBF0F8"
           }
          },
          "shapedefaults": {
           "line": {
            "color": "#2a3f5f"
           }
          },
          "ternary": {
           "aaxis": {
            "gridcolor": "#DFE8F3",
            "linecolor": "#A2B1C6",
            "ticks": ""
           },
           "baxis": {
            "gridcolor": "#DFE8F3",
            "linecolor": "#A2B1C6",
            "ticks": ""
           },
           "bgcolor": "white",
           "caxis": {
            "gridcolor": "#DFE8F3",
            "linecolor": "#A2B1C6",
            "ticks": ""
           }
          },
          "title": {
           "x": 0.05
          },
          "xaxis": {
           "automargin": true,
           "gridcolor": "#EBF0F8",
           "linecolor": "#EBF0F8",
           "ticks": "",
           "title": {
            "standoff": 15
           },
           "zerolinecolor": "#EBF0F8",
           "zerolinewidth": 2
          },
          "yaxis": {
           "automargin": true,
           "gridcolor": "#EBF0F8",
           "linecolor": "#EBF0F8",
           "ticks": "",
           "title": {
            "standoff": 15
           },
           "zerolinecolor": "#EBF0F8",
           "zerolinewidth": 2
          }
         }
        },
        "title": {
         "text": "Total Ad Spend by State"
        },
        "width": 800,
        "xaxis": {
         "anchor": "y",
         "categoryorder": "total descending",
         "domain": [
          0,
          1
         ],
         "tickangle": -90,
         "title": {
          "text": "State"
         }
        },
        "yaxis": {
         "anchor": "x",
         "domain": [
          0,
          1
         ],
         "title": {
          "text": "Ad Spend (INR)"
         }
        }
       }
      }
     },
     "metadata": {},
     "output_type": "display_data"
    }
   ],
   "source": [
    "import plotly.express as px\n",
    "import plotly.io as pio\n",
    "import plotly.graph_objects as go\n",
    "pio.templates.default = \"plotly_white\"\n",
    "\n",
    "state_ad_spend = merged_data.groupby('State')['Amount spent (INR)'].sum().reset_index()\n",
    "\n",
    "fig = px.bar(state_ad_spend, x='State', y='Amount spent (INR)',\n",
    "             labels={'State': 'State', 'Amount spent (INR)': 'Ad Spend (INR)'},\n",
    "             title='Total Ad Spend by State')\n",
    "\n",
    "fig.update_layout(xaxis={'categoryorder': 'total descending'},\n",
    "                  xaxis_tickangle=-90,\n",
    "                  width=800,\n",
    "                  height=600)\n",
    "\n",
    "fig.show()"
   ]
  },
  {
   "cell_type": "code",
   "execution_count": 37,
   "id": "f4509e59",
   "metadata": {},
   "outputs": [],
   "source": [
    "# Average voter turnout by state\n",
    "avg_turnout_by_state = merged_data.groupby('State')['Polled (%)'].mean().reset_index()"
   ]
  },
  {
   "cell_type": "code",
   "execution_count": 38,
   "id": "9779f9de",
   "metadata": {},
   "outputs": [
    {
     "data": {
      "application/vnd.plotly.v1+json": {
       "config": {
        "plotlyServerURL": "https://plot.ly"
       },
       "data": [
        {
         "hovertemplate": "State=%{x}<br>Average Voter Turnout (%)=%{y}<extra></extra>",
         "legendgroup": "",
         "marker": {
          "color": "#636efa",
          "pattern": {
           "shape": ""
          }
         },
         "name": "",
         "orientation": "v",
         "showlegend": false,
         "textposition": "auto",
         "type": "bar",
         "x": [
          "andaman & nicobar islands",
          "andhra pradesh",
          "arunachal pradesh",
          "assam",
          "bihar",
          "chandigarh",
          "chhattisgarh",
          "dadra & nagar haveli and\ndaman & diu",
          "goa",
          "gujarat",
          "haryana",
          "himachal pradesh",
          "jammu and kashmir",
          "jharkhand",
          "karnataka",
          "kerala",
          "ladakh",
          "lakshadweep",
          "madhya pradesh",
          "maharashtra",
          "manipur",
          "meghalaya",
          "mizoram",
          "nagaland",
          "nct of delhi",
          "odisha",
          "puducherry",
          "punjab",
          "rajasthan",
          "sikkim",
          "tamil nadu",
          "telangana",
          "tripura",
          "uttar pradesh",
          "uttarakhand",
          "west bengal"
         ],
         "xaxis": "x",
         "y": {
          "bdata": "ZmZmZmYGUEBv8IXJVDFUQIXrUbgenVNAIec+u4A4VEAYBFYOLSpMQB+F61G4/lBAR/xrxL9GUkDhehSuR6lRQIXrUbgeBVNA4C2QoPgRTkDwp8ZLN0FQQPYoXI/CvVFADQIrhxZZTUAfhetRuKZQQOnvZLW87VFA46WbxCDMUUAUrkfhevRRQArXo3A9ClVA1hQxIRq+UEB7FK5H4bpOQFK4HoXrgVNAzczMzMxkU0CPwvUoXG9MQFyPwvUo3ExA0pBzn11ATUBxPQrXo6BSQJqZmZmZuVNAb+RGbuRmT0DYgXNGlLZOQLgehetR+FNA8XbVvUOCUUA6B9SgbepQQHsUrkfhOlRAvXSTGASGTEBlO99PjRdMQMEJnMAJzFNA",
          "dtype": "f8"
         },
         "yaxis": "y"
        }
       ],
       "layout": {
        "barmode": "relative",
        "height": 600,
        "legend": {
         "tracegroupgap": 0
        },
        "template": {
         "data": {
          "bar": [
           {
            "error_x": {
             "color": "#2a3f5f"
            },
            "error_y": {
             "color": "#2a3f5f"
            },
            "marker": {
             "line": {
              "color": "white",
              "width": 0.5
             },
             "pattern": {
              "fillmode": "overlay",
              "size": 10,
              "solidity": 0.2
             }
            },
            "type": "bar"
           }
          ],
          "barpolar": [
           {
            "marker": {
             "line": {
              "color": "white",
              "width": 0.5
             },
             "pattern": {
              "fillmode": "overlay",
              "size": 10,
              "solidity": 0.2
             }
            },
            "type": "barpolar"
           }
          ],
          "carpet": [
           {
            "aaxis": {
             "endlinecolor": "#2a3f5f",
             "gridcolor": "#C8D4E3",
             "linecolor": "#C8D4E3",
             "minorgridcolor": "#C8D4E3",
             "startlinecolor": "#2a3f5f"
            },
            "baxis": {
             "endlinecolor": "#2a3f5f",
             "gridcolor": "#C8D4E3",
             "linecolor": "#C8D4E3",
             "minorgridcolor": "#C8D4E3",
             "startlinecolor": "#2a3f5f"
            },
            "type": "carpet"
           }
          ],
          "choropleth": [
           {
            "colorbar": {
             "outlinewidth": 0,
             "ticks": ""
            },
            "type": "choropleth"
           }
          ],
          "contour": [
           {
            "colorbar": {
             "outlinewidth": 0,
             "ticks": ""
            },
            "colorscale": [
             [
              0,
              "#0d0887"
             ],
             [
              0.1111111111111111,
              "#46039f"
             ],
             [
              0.2222222222222222,
              "#7201a8"
             ],
             [
              0.3333333333333333,
              "#9c179e"
             ],
             [
              0.4444444444444444,
              "#bd3786"
             ],
             [
              0.5555555555555556,
              "#d8576b"
             ],
             [
              0.6666666666666666,
              "#ed7953"
             ],
             [
              0.7777777777777778,
              "#fb9f3a"
             ],
             [
              0.8888888888888888,
              "#fdca26"
             ],
             [
              1,
              "#f0f921"
             ]
            ],
            "type": "contour"
           }
          ],
          "contourcarpet": [
           {
            "colorbar": {
             "outlinewidth": 0,
             "ticks": ""
            },
            "type": "contourcarpet"
           }
          ],
          "heatmap": [
           {
            "colorbar": {
             "outlinewidth": 0,
             "ticks": ""
            },
            "colorscale": [
             [
              0,
              "#0d0887"
             ],
             [
              0.1111111111111111,
              "#46039f"
             ],
             [
              0.2222222222222222,
              "#7201a8"
             ],
             [
              0.3333333333333333,
              "#9c179e"
             ],
             [
              0.4444444444444444,
              "#bd3786"
             ],
             [
              0.5555555555555556,
              "#d8576b"
             ],
             [
              0.6666666666666666,
              "#ed7953"
             ],
             [
              0.7777777777777778,
              "#fb9f3a"
             ],
             [
              0.8888888888888888,
              "#fdca26"
             ],
             [
              1,
              "#f0f921"
             ]
            ],
            "type": "heatmap"
           }
          ],
          "histogram": [
           {
            "marker": {
             "pattern": {
              "fillmode": "overlay",
              "size": 10,
              "solidity": 0.2
             }
            },
            "type": "histogram"
           }
          ],
          "histogram2d": [
           {
            "colorbar": {
             "outlinewidth": 0,
             "ticks": ""
            },
            "colorscale": [
             [
              0,
              "#0d0887"
             ],
             [
              0.1111111111111111,
              "#46039f"
             ],
             [
              0.2222222222222222,
              "#7201a8"
             ],
             [
              0.3333333333333333,
              "#9c179e"
             ],
             [
              0.4444444444444444,
              "#bd3786"
             ],
             [
              0.5555555555555556,
              "#d8576b"
             ],
             [
              0.6666666666666666,
              "#ed7953"
             ],
             [
              0.7777777777777778,
              "#fb9f3a"
             ],
             [
              0.8888888888888888,
              "#fdca26"
             ],
             [
              1,
              "#f0f921"
             ]
            ],
            "type": "histogram2d"
           }
          ],
          "histogram2dcontour": [
           {
            "colorbar": {
             "outlinewidth": 0,
             "ticks": ""
            },
            "colorscale": [
             [
              0,
              "#0d0887"
             ],
             [
              0.1111111111111111,
              "#46039f"
             ],
             [
              0.2222222222222222,
              "#7201a8"
             ],
             [
              0.3333333333333333,
              "#9c179e"
             ],
             [
              0.4444444444444444,
              "#bd3786"
             ],
             [
              0.5555555555555556,
              "#d8576b"
             ],
             [
              0.6666666666666666,
              "#ed7953"
             ],
             [
              0.7777777777777778,
              "#fb9f3a"
             ],
             [
              0.8888888888888888,
              "#fdca26"
             ],
             [
              1,
              "#f0f921"
             ]
            ],
            "type": "histogram2dcontour"
           }
          ],
          "mesh3d": [
           {
            "colorbar": {
             "outlinewidth": 0,
             "ticks": ""
            },
            "type": "mesh3d"
           }
          ],
          "parcoords": [
           {
            "line": {
             "colorbar": {
              "outlinewidth": 0,
              "ticks": ""
             }
            },
            "type": "parcoords"
           }
          ],
          "pie": [
           {
            "automargin": true,
            "type": "pie"
           }
          ],
          "scatter": [
           {
            "fillpattern": {
             "fillmode": "overlay",
             "size": 10,
             "solidity": 0.2
            },
            "type": "scatter"
           }
          ],
          "scatter3d": [
           {
            "line": {
             "colorbar": {
              "outlinewidth": 0,
              "ticks": ""
             }
            },
            "marker": {
             "colorbar": {
              "outlinewidth": 0,
              "ticks": ""
             }
            },
            "type": "scatter3d"
           }
          ],
          "scattercarpet": [
           {
            "marker": {
             "colorbar": {
              "outlinewidth": 0,
              "ticks": ""
             }
            },
            "type": "scattercarpet"
           }
          ],
          "scattergeo": [
           {
            "marker": {
             "colorbar": {
              "outlinewidth": 0,
              "ticks": ""
             }
            },
            "type": "scattergeo"
           }
          ],
          "scattergl": [
           {
            "marker": {
             "colorbar": {
              "outlinewidth": 0,
              "ticks": ""
             }
            },
            "type": "scattergl"
           }
          ],
          "scattermap": [
           {
            "marker": {
             "colorbar": {
              "outlinewidth": 0,
              "ticks": ""
             }
            },
            "type": "scattermap"
           }
          ],
          "scattermapbox": [
           {
            "marker": {
             "colorbar": {
              "outlinewidth": 0,
              "ticks": ""
             }
            },
            "type": "scattermapbox"
           }
          ],
          "scatterpolar": [
           {
            "marker": {
             "colorbar": {
              "outlinewidth": 0,
              "ticks": ""
             }
            },
            "type": "scatterpolar"
           }
          ],
          "scatterpolargl": [
           {
            "marker": {
             "colorbar": {
              "outlinewidth": 0,
              "ticks": ""
             }
            },
            "type": "scatterpolargl"
           }
          ],
          "scatterternary": [
           {
            "marker": {
             "colorbar": {
              "outlinewidth": 0,
              "ticks": ""
             }
            },
            "type": "scatterternary"
           }
          ],
          "surface": [
           {
            "colorbar": {
             "outlinewidth": 0,
             "ticks": ""
            },
            "colorscale": [
             [
              0,
              "#0d0887"
             ],
             [
              0.1111111111111111,
              "#46039f"
             ],
             [
              0.2222222222222222,
              "#7201a8"
             ],
             [
              0.3333333333333333,
              "#9c179e"
             ],
             [
              0.4444444444444444,
              "#bd3786"
             ],
             [
              0.5555555555555556,
              "#d8576b"
             ],
             [
              0.6666666666666666,
              "#ed7953"
             ],
             [
              0.7777777777777778,
              "#fb9f3a"
             ],
             [
              0.8888888888888888,
              "#fdca26"
             ],
             [
              1,
              "#f0f921"
             ]
            ],
            "type": "surface"
           }
          ],
          "table": [
           {
            "cells": {
             "fill": {
              "color": "#EBF0F8"
             },
             "line": {
              "color": "white"
             }
            },
            "header": {
             "fill": {
              "color": "#C8D4E3"
             },
             "line": {
              "color": "white"
             }
            },
            "type": "table"
           }
          ]
         },
         "layout": {
          "annotationdefaults": {
           "arrowcolor": "#2a3f5f",
           "arrowhead": 0,
           "arrowwidth": 1
          },
          "autotypenumbers": "strict",
          "coloraxis": {
           "colorbar": {
            "outlinewidth": 0,
            "ticks": ""
           }
          },
          "colorscale": {
           "diverging": [
            [
             0,
             "#8e0152"
            ],
            [
             0.1,
             "#c51b7d"
            ],
            [
             0.2,
             "#de77ae"
            ],
            [
             0.3,
             "#f1b6da"
            ],
            [
             0.4,
             "#fde0ef"
            ],
            [
             0.5,
             "#f7f7f7"
            ],
            [
             0.6,
             "#e6f5d0"
            ],
            [
             0.7,
             "#b8e186"
            ],
            [
             0.8,
             "#7fbc41"
            ],
            [
             0.9,
             "#4d9221"
            ],
            [
             1,
             "#276419"
            ]
           ],
           "sequential": [
            [
             0,
             "#0d0887"
            ],
            [
             0.1111111111111111,
             "#46039f"
            ],
            [
             0.2222222222222222,
             "#7201a8"
            ],
            [
             0.3333333333333333,
             "#9c179e"
            ],
            [
             0.4444444444444444,
             "#bd3786"
            ],
            [
             0.5555555555555556,
             "#d8576b"
            ],
            [
             0.6666666666666666,
             "#ed7953"
            ],
            [
             0.7777777777777778,
             "#fb9f3a"
            ],
            [
             0.8888888888888888,
             "#fdca26"
            ],
            [
             1,
             "#f0f921"
            ]
           ],
           "sequentialminus": [
            [
             0,
             "#0d0887"
            ],
            [
             0.1111111111111111,
             "#46039f"
            ],
            [
             0.2222222222222222,
             "#7201a8"
            ],
            [
             0.3333333333333333,
             "#9c179e"
            ],
            [
             0.4444444444444444,
             "#bd3786"
            ],
            [
             0.5555555555555556,
             "#d8576b"
            ],
            [
             0.6666666666666666,
             "#ed7953"
            ],
            [
             0.7777777777777778,
             "#fb9f3a"
            ],
            [
             0.8888888888888888,
             "#fdca26"
            ],
            [
             1,
             "#f0f921"
            ]
           ]
          },
          "colorway": [
           "#636efa",
           "#EF553B",
           "#00cc96",
           "#ab63fa",
           "#FFA15A",
           "#19d3f3",
           "#FF6692",
           "#B6E880",
           "#FF97FF",
           "#FECB52"
          ],
          "font": {
           "color": "#2a3f5f"
          },
          "geo": {
           "bgcolor": "white",
           "lakecolor": "white",
           "landcolor": "white",
           "showlakes": true,
           "showland": true,
           "subunitcolor": "#C8D4E3"
          },
          "hoverlabel": {
           "align": "left"
          },
          "hovermode": "closest",
          "mapbox": {
           "style": "light"
          },
          "paper_bgcolor": "white",
          "plot_bgcolor": "white",
          "polar": {
           "angularaxis": {
            "gridcolor": "#EBF0F8",
            "linecolor": "#EBF0F8",
            "ticks": ""
           },
           "bgcolor": "white",
           "radialaxis": {
            "gridcolor": "#EBF0F8",
            "linecolor": "#EBF0F8",
            "ticks": ""
           }
          },
          "scene": {
           "xaxis": {
            "backgroundcolor": "white",
            "gridcolor": "#DFE8F3",
            "gridwidth": 2,
            "linecolor": "#EBF0F8",
            "showbackground": true,
            "ticks": "",
            "zerolinecolor": "#EBF0F8"
           },
           "yaxis": {
            "backgroundcolor": "white",
            "gridcolor": "#DFE8F3",
            "gridwidth": 2,
            "linecolor": "#EBF0F8",
            "showbackground": true,
            "ticks": "",
            "zerolinecolor": "#EBF0F8"
           },
           "zaxis": {
            "backgroundcolor": "white",
            "gridcolor": "#DFE8F3",
            "gridwidth": 2,
            "linecolor": "#EBF0F8",
            "showbackground": true,
            "ticks": "",
            "zerolinecolor": "#EBF0F8"
           }
          },
          "shapedefaults": {
           "line": {
            "color": "#2a3f5f"
           }
          },
          "ternary": {
           "aaxis": {
            "gridcolor": "#DFE8F3",
            "linecolor": "#A2B1C6",
            "ticks": ""
           },
           "baxis": {
            "gridcolor": "#DFE8F3",
            "linecolor": "#A2B1C6",
            "ticks": ""
           },
           "bgcolor": "white",
           "caxis": {
            "gridcolor": "#DFE8F3",
            "linecolor": "#A2B1C6",
            "ticks": ""
           }
          },
          "title": {
           "x": 0.05
          },
          "xaxis": {
           "automargin": true,
           "gridcolor": "#EBF0F8",
           "linecolor": "#EBF0F8",
           "ticks": "",
           "title": {
            "standoff": 15
           },
           "zerolinecolor": "#EBF0F8",
           "zerolinewidth": 2
          },
          "yaxis": {
           "automargin": true,
           "gridcolor": "#EBF0F8",
           "linecolor": "#EBF0F8",
           "ticks": "",
           "title": {
            "standoff": 15
           },
           "zerolinecolor": "#EBF0F8",
           "zerolinewidth": 2
          }
         }
        },
        "title": {
         "text": "Average Voter Turnout by State"
        },
        "width": 800,
        "xaxis": {
         "anchor": "y",
         "categoryorder": "total descending",
         "domain": [
          0,
          1
         ],
         "tickangle": -90,
         "title": {
          "text": "State"
         }
        },
        "yaxis": {
         "anchor": "x",
         "domain": [
          0,
          1
         ],
         "title": {
          "text": "Average Voter Turnout (%)"
         }
        }
       }
      }
     },
     "metadata": {},
     "output_type": "display_data"
    }
   ],
   "source": [
    "# visualizing the total ad spend by state\n",
    "fig = px.bar(avg_turnout_by_state, x = 'State', y = 'Polled (%)',\n",
    "             labels = {'State': 'State', 'Polled (%)': 'Average Voter Turnout (%)'},\n",
    "             title = 'Average Voter Turnout by State')\n",
    "fig.update_layout(xaxis={'categoryorder': 'total descending'},\n",
    "                  xaxis_tickangle=-90,\n",
    "                  width=800,\n",
    "                  height=600)"
   ]
  },
  {
   "cell_type": "code",
   "execution_count": 45,
   "id": "fead289a",
   "metadata": {},
   "outputs": [
    {
     "data": {
      "application/vnd.plotly.v1+json": {
       "config": {
        "plotlyServerURL": "https://plot.ly"
       },
       "data": [
        {
         "domain": {
          "x": [
           0,
           1
          ],
          "y": [
           0,
           1
          ]
         },
         "hovertemplate": "Party=%{label}<br>Ad Spend (INR)=%{value}<extra></extra>",
         "labels": [
          "Bharatiya Janata Party (BJP)",
          "Ama Chinha Sankha Chinha",
          "Indian National Congress",
          "Ellorum Nammudan",
          "BJP Odisha"
         ],
         "legendgroup": "",
         "name": "",
         "showlegend": true,
         "textinfo": "percent",
         "type": "pie",
         "values": {
          "bdata": "AAAADPcbp0EAAAA0JM2aQQAAAHDW75lBAAAAkAW0dkEAAABgwapyQQ==",
          "dtype": "f8"
         }
        }
       ],
       "layout": {
        "legend": {
         "orientation": "v",
         "tracegroupgap": 0,
         "x": -0.3,
         "xanchor": "left",
         "y": 1,
         "yanchor": "top"
        },
        "margin": {
         "b": 50,
         "l": 200,
         "r": 50,
         "t": 100
        },
        "piecolorway": [
         "#636EFA",
         "#EF553B",
         "#00CC96",
         "#AB63FA",
         "#FFA15A"
        ],
        "showlegend": true,
        "template": {
         "data": {
          "bar": [
           {
            "error_x": {
             "color": "#2a3f5f"
            },
            "error_y": {
             "color": "#2a3f5f"
            },
            "marker": {
             "line": {
              "color": "white",
              "width": 0.5
             },
             "pattern": {
              "fillmode": "overlay",
              "size": 10,
              "solidity": 0.2
             }
            },
            "type": "bar"
           }
          ],
          "barpolar": [
           {
            "marker": {
             "line": {
              "color": "white",
              "width": 0.5
             },
             "pattern": {
              "fillmode": "overlay",
              "size": 10,
              "solidity": 0.2
             }
            },
            "type": "barpolar"
           }
          ],
          "carpet": [
           {
            "aaxis": {
             "endlinecolor": "#2a3f5f",
             "gridcolor": "#C8D4E3",
             "linecolor": "#C8D4E3",
             "minorgridcolor": "#C8D4E3",
             "startlinecolor": "#2a3f5f"
            },
            "baxis": {
             "endlinecolor": "#2a3f5f",
             "gridcolor": "#C8D4E3",
             "linecolor": "#C8D4E3",
             "minorgridcolor": "#C8D4E3",
             "startlinecolor": "#2a3f5f"
            },
            "type": "carpet"
           }
          ],
          "choropleth": [
           {
            "colorbar": {
             "outlinewidth": 0,
             "ticks": ""
            },
            "type": "choropleth"
           }
          ],
          "contour": [
           {
            "colorbar": {
             "outlinewidth": 0,
             "ticks": ""
            },
            "colorscale": [
             [
              0,
              "#0d0887"
             ],
             [
              0.1111111111111111,
              "#46039f"
             ],
             [
              0.2222222222222222,
              "#7201a8"
             ],
             [
              0.3333333333333333,
              "#9c179e"
             ],
             [
              0.4444444444444444,
              "#bd3786"
             ],
             [
              0.5555555555555556,
              "#d8576b"
             ],
             [
              0.6666666666666666,
              "#ed7953"
             ],
             [
              0.7777777777777778,
              "#fb9f3a"
             ],
             [
              0.8888888888888888,
              "#fdca26"
             ],
             [
              1,
              "#f0f921"
             ]
            ],
            "type": "contour"
           }
          ],
          "contourcarpet": [
           {
            "colorbar": {
             "outlinewidth": 0,
             "ticks": ""
            },
            "type": "contourcarpet"
           }
          ],
          "heatmap": [
           {
            "colorbar": {
             "outlinewidth": 0,
             "ticks": ""
            },
            "colorscale": [
             [
              0,
              "#0d0887"
             ],
             [
              0.1111111111111111,
              "#46039f"
             ],
             [
              0.2222222222222222,
              "#7201a8"
             ],
             [
              0.3333333333333333,
              "#9c179e"
             ],
             [
              0.4444444444444444,
              "#bd3786"
             ],
             [
              0.5555555555555556,
              "#d8576b"
             ],
             [
              0.6666666666666666,
              "#ed7953"
             ],
             [
              0.7777777777777778,
              "#fb9f3a"
             ],
             [
              0.8888888888888888,
              "#fdca26"
             ],
             [
              1,
              "#f0f921"
             ]
            ],
            "type": "heatmap"
           }
          ],
          "histogram": [
           {
            "marker": {
             "pattern": {
              "fillmode": "overlay",
              "size": 10,
              "solidity": 0.2
             }
            },
            "type": "histogram"
           }
          ],
          "histogram2d": [
           {
            "colorbar": {
             "outlinewidth": 0,
             "ticks": ""
            },
            "colorscale": [
             [
              0,
              "#0d0887"
             ],
             [
              0.1111111111111111,
              "#46039f"
             ],
             [
              0.2222222222222222,
              "#7201a8"
             ],
             [
              0.3333333333333333,
              "#9c179e"
             ],
             [
              0.4444444444444444,
              "#bd3786"
             ],
             [
              0.5555555555555556,
              "#d8576b"
             ],
             [
              0.6666666666666666,
              "#ed7953"
             ],
             [
              0.7777777777777778,
              "#fb9f3a"
             ],
             [
              0.8888888888888888,
              "#fdca26"
             ],
             [
              1,
              "#f0f921"
             ]
            ],
            "type": "histogram2d"
           }
          ],
          "histogram2dcontour": [
           {
            "colorbar": {
             "outlinewidth": 0,
             "ticks": ""
            },
            "colorscale": [
             [
              0,
              "#0d0887"
             ],
             [
              0.1111111111111111,
              "#46039f"
             ],
             [
              0.2222222222222222,
              "#7201a8"
             ],
             [
              0.3333333333333333,
              "#9c179e"
             ],
             [
              0.4444444444444444,
              "#bd3786"
             ],
             [
              0.5555555555555556,
              "#d8576b"
             ],
             [
              0.6666666666666666,
              "#ed7953"
             ],
             [
              0.7777777777777778,
              "#fb9f3a"
             ],
             [
              0.8888888888888888,
              "#fdca26"
             ],
             [
              1,
              "#f0f921"
             ]
            ],
            "type": "histogram2dcontour"
           }
          ],
          "mesh3d": [
           {
            "colorbar": {
             "outlinewidth": 0,
             "ticks": ""
            },
            "type": "mesh3d"
           }
          ],
          "parcoords": [
           {
            "line": {
             "colorbar": {
              "outlinewidth": 0,
              "ticks": ""
             }
            },
            "type": "parcoords"
           }
          ],
          "pie": [
           {
            "automargin": true,
            "type": "pie"
           }
          ],
          "scatter": [
           {
            "fillpattern": {
             "fillmode": "overlay",
             "size": 10,
             "solidity": 0.2
            },
            "type": "scatter"
           }
          ],
          "scatter3d": [
           {
            "line": {
             "colorbar": {
              "outlinewidth": 0,
              "ticks": ""
             }
            },
            "marker": {
             "colorbar": {
              "outlinewidth": 0,
              "ticks": ""
             }
            },
            "type": "scatter3d"
           }
          ],
          "scattercarpet": [
           {
            "marker": {
             "colorbar": {
              "outlinewidth": 0,
              "ticks": ""
             }
            },
            "type": "scattercarpet"
           }
          ],
          "scattergeo": [
           {
            "marker": {
             "colorbar": {
              "outlinewidth": 0,
              "ticks": ""
             }
            },
            "type": "scattergeo"
           }
          ],
          "scattergl": [
           {
            "marker": {
             "colorbar": {
              "outlinewidth": 0,
              "ticks": ""
             }
            },
            "type": "scattergl"
           }
          ],
          "scattermap": [
           {
            "marker": {
             "colorbar": {
              "outlinewidth": 0,
              "ticks": ""
             }
            },
            "type": "scattermap"
           }
          ],
          "scattermapbox": [
           {
            "marker": {
             "colorbar": {
              "outlinewidth": 0,
              "ticks": ""
             }
            },
            "type": "scattermapbox"
           }
          ],
          "scatterpolar": [
           {
            "marker": {
             "colorbar": {
              "outlinewidth": 0,
              "ticks": ""
             }
            },
            "type": "scatterpolar"
           }
          ],
          "scatterpolargl": [
           {
            "marker": {
             "colorbar": {
              "outlinewidth": 0,
              "ticks": ""
             }
            },
            "type": "scatterpolargl"
           }
          ],
          "scatterternary": [
           {
            "marker": {
             "colorbar": {
              "outlinewidth": 0,
              "ticks": ""
             }
            },
            "type": "scatterternary"
           }
          ],
          "surface": [
           {
            "colorbar": {
             "outlinewidth": 0,
             "ticks": ""
            },
            "colorscale": [
             [
              0,
              "#0d0887"
             ],
             [
              0.1111111111111111,
              "#46039f"
             ],
             [
              0.2222222222222222,
              "#7201a8"
             ],
             [
              0.3333333333333333,
              "#9c179e"
             ],
             [
              0.4444444444444444,
              "#bd3786"
             ],
             [
              0.5555555555555556,
              "#d8576b"
             ],
             [
              0.6666666666666666,
              "#ed7953"
             ],
             [
              0.7777777777777778,
              "#fb9f3a"
             ],
             [
              0.8888888888888888,
              "#fdca26"
             ],
             [
              1,
              "#f0f921"
             ]
            ],
            "type": "surface"
           }
          ],
          "table": [
           {
            "cells": {
             "fill": {
              "color": "#EBF0F8"
             },
             "line": {
              "color": "white"
             }
            },
            "header": {
             "fill": {
              "color": "#C8D4E3"
             },
             "line": {
              "color": "white"
             }
            },
            "type": "table"
           }
          ]
         },
         "layout": {
          "annotationdefaults": {
           "arrowcolor": "#2a3f5f",
           "arrowhead": 0,
           "arrowwidth": 1
          },
          "autotypenumbers": "strict",
          "coloraxis": {
           "colorbar": {
            "outlinewidth": 0,
            "ticks": ""
           }
          },
          "colorscale": {
           "diverging": [
            [
             0,
             "#8e0152"
            ],
            [
             0.1,
             "#c51b7d"
            ],
            [
             0.2,
             "#de77ae"
            ],
            [
             0.3,
             "#f1b6da"
            ],
            [
             0.4,
             "#fde0ef"
            ],
            [
             0.5,
             "#f7f7f7"
            ],
            [
             0.6,
             "#e6f5d0"
            ],
            [
             0.7,
             "#b8e186"
            ],
            [
             0.8,
             "#7fbc41"
            ],
            [
             0.9,
             "#4d9221"
            ],
            [
             1,
             "#276419"
            ]
           ],
           "sequential": [
            [
             0,
             "#0d0887"
            ],
            [
             0.1111111111111111,
             "#46039f"
            ],
            [
             0.2222222222222222,
             "#7201a8"
            ],
            [
             0.3333333333333333,
             "#9c179e"
            ],
            [
             0.4444444444444444,
             "#bd3786"
            ],
            [
             0.5555555555555556,
             "#d8576b"
            ],
            [
             0.6666666666666666,
             "#ed7953"
            ],
            [
             0.7777777777777778,
             "#fb9f3a"
            ],
            [
             0.8888888888888888,
             "#fdca26"
            ],
            [
             1,
             "#f0f921"
            ]
           ],
           "sequentialminus": [
            [
             0,
             "#0d0887"
            ],
            [
             0.1111111111111111,
             "#46039f"
            ],
            [
             0.2222222222222222,
             "#7201a8"
            ],
            [
             0.3333333333333333,
             "#9c179e"
            ],
            [
             0.4444444444444444,
             "#bd3786"
            ],
            [
             0.5555555555555556,
             "#d8576b"
            ],
            [
             0.6666666666666666,
             "#ed7953"
            ],
            [
             0.7777777777777778,
             "#fb9f3a"
            ],
            [
             0.8888888888888888,
             "#fdca26"
            ],
            [
             1,
             "#f0f921"
            ]
           ]
          },
          "colorway": [
           "#636efa",
           "#EF553B",
           "#00cc96",
           "#ab63fa",
           "#FFA15A",
           "#19d3f3",
           "#FF6692",
           "#B6E880",
           "#FF97FF",
           "#FECB52"
          ],
          "font": {
           "color": "#2a3f5f"
          },
          "geo": {
           "bgcolor": "white",
           "lakecolor": "white",
           "landcolor": "white",
           "showlakes": true,
           "showland": true,
           "subunitcolor": "#C8D4E3"
          },
          "hoverlabel": {
           "align": "left"
          },
          "hovermode": "closest",
          "mapbox": {
           "style": "light"
          },
          "paper_bgcolor": "white",
          "plot_bgcolor": "white",
          "polar": {
           "angularaxis": {
            "gridcolor": "#EBF0F8",
            "linecolor": "#EBF0F8",
            "ticks": ""
           },
           "bgcolor": "white",
           "radialaxis": {
            "gridcolor": "#EBF0F8",
            "linecolor": "#EBF0F8",
            "ticks": ""
           }
          },
          "scene": {
           "xaxis": {
            "backgroundcolor": "white",
            "gridcolor": "#DFE8F3",
            "gridwidth": 2,
            "linecolor": "#EBF0F8",
            "showbackground": true,
            "ticks": "",
            "zerolinecolor": "#EBF0F8"
           },
           "yaxis": {
            "backgroundcolor": "white",
            "gridcolor": "#DFE8F3",
            "gridwidth": 2,
            "linecolor": "#EBF0F8",
            "showbackground": true,
            "ticks": "",
            "zerolinecolor": "#EBF0F8"
           },
           "zaxis": {
            "backgroundcolor": "white",
            "gridcolor": "#DFE8F3",
            "gridwidth": 2,
            "linecolor": "#EBF0F8",
            "showbackground": true,
            "ticks": "",
            "zerolinecolor": "#EBF0F8"
           }
          },
          "shapedefaults": {
           "line": {
            "color": "#2a3f5f"
           }
          },
          "ternary": {
           "aaxis": {
            "gridcolor": "#DFE8F3",
            "linecolor": "#A2B1C6",
            "ticks": ""
           },
           "baxis": {
            "gridcolor": "#DFE8F3",
            "linecolor": "#A2B1C6",
            "ticks": ""
           },
           "bgcolor": "white",
           "caxis": {
            "gridcolor": "#DFE8F3",
            "linecolor": "#A2B1C6",
            "ticks": ""
           }
          },
          "title": {
           "x": 0.05
          },
          "xaxis": {
           "automargin": true,
           "gridcolor": "#EBF0F8",
           "linecolor": "#EBF0F8",
           "ticks": "",
           "title": {
            "standoff": 15
           },
           "zerolinecolor": "#EBF0F8",
           "zerolinewidth": 2
          },
          "yaxis": {
           "automargin": true,
           "gridcolor": "#EBF0F8",
           "linecolor": "#EBF0F8",
           "ticks": "",
           "title": {
            "standoff": 15
           },
           "zerolinecolor": "#EBF0F8",
           "zerolinewidth": 2
          }
         }
        },
        "title": {
         "text": "Top 5 Parties by Ad Spend",
         "x": 0.5,
         "xanchor": "center",
         "y": 0.95,
         "yanchor": "top"
        }
       }
      }
     },
     "metadata": {},
     "output_type": "display_data"
    }
   ],
   "source": [
    "# Top 5 parties by ad spend\n",
    "advertisers['Amount spent (INR)']=pd.to_numeric(advertisers['Amount spent (INR)'], errors='coerce')\n",
    "advertisers.dropna(subset=['Amount spent (INR)'], inplace=True)\n",
    "party_ad_spend = advertisers.groupby('Page name')['Amount spent (INR)'].sum().sort_values(ascending=False)\n",
    "top_5_parties = party_ad_spend.head(5).reset_index()\n",
    "colors = ['#636EFA', '#EF553B', '#00CC96', '#AB63FA', '#FFA15A']\n",
    "\n",
    "fig = px.pie(top_5_parties, names='Page name', values='Amount spent (INR)',\n",
    "                title='Top 5 Parties by Ad Spend',\n",
    "                color_discrete_sequence=colors,\n",
    "                labels={'Page name': 'Party', 'Amount spent (INR)': 'Ad Spend (INR)'})\n",
    "fig.update_traces( textinfo='percent')\n",
    "fig.update_layout(showlegend=True,\n",
    "                  legend=dict(orientation='v', yanchor='top', y=1, xanchor='left', x=-0.3),\n",
    "                  title=dict(x=0.5, y=0.95, xanchor='center', yanchor='top'),\n",
    "                  margin=dict(l=200, r=50, t=100, b=50)\n",
    ")\n",
    "fig.show()\n"
   ]
  },
  {
   "cell_type": "code",
   "execution_count": 49,
   "id": "77c5a71b",
   "metadata": {},
   "outputs": [
    {
     "data": {
      "text/html": [
       "<div>\n",
       "<style scoped>\n",
       "    .dataframe tbody tr th:only-of-type {\n",
       "        vertical-align: middle;\n",
       "    }\n",
       "\n",
       "    .dataframe tbody tr th {\n",
       "        vertical-align: top;\n",
       "    }\n",
       "\n",
       "    .dataframe thead th {\n",
       "        text-align: right;\n",
       "    }\n",
       "</style>\n",
       "<table border=\"1\" class=\"dataframe\">\n",
       "  <thead>\n",
       "    <tr style=\"text-align: right;\">\n",
       "      <th></th>\n",
       "      <th>Amount spent (INR)</th>\n",
       "      <th>Polled (%)</th>\n",
       "    </tr>\n",
       "  </thead>\n",
       "  <tbody>\n",
       "    <tr>\n",
       "      <th>Amount spent (INR)</th>\n",
       "      <td>1.000000</td>\n",
       "      <td>-0.010688</td>\n",
       "    </tr>\n",
       "    <tr>\n",
       "      <th>Polled (%)</th>\n",
       "      <td>-0.010688</td>\n",
       "      <td>1.000000</td>\n",
       "    </tr>\n",
       "  </tbody>\n",
       "</table>\n",
       "</div>"
      ],
      "text/plain": [
       "                    Amount spent (INR)  Polled (%)\n",
       "Amount spent (INR)            1.000000   -0.010688\n",
       "Polled (%)                   -0.010688    1.000000"
      ]
     },
     "execution_count": 49,
     "metadata": {},
     "output_type": "execute_result"
    }
   ],
   "source": [
    "# correlation between ad spend and voter turnout\n",
    "correlation_data = merged_data[['Amount spent (INR)', 'Polled (%)']].corr()\n",
    "correlation_data"
   ]
  },
  {
   "cell_type": "code",
   "execution_count": 52,
   "id": "e21269f6",
   "metadata": {},
   "outputs": [
    {
     "data": {
      "application/vnd.plotly.v1+json": {
       "config": {
        "plotlyServerURL": "https://plot.ly"
       },
       "data": [
        {
         "hovertemplate": "<b>%{hovertext}</b><br><br>State=andaman & nicobar islands<br>Ad Spend (INR)=%{x}<br>Voter Turnout (%)=%{y}<extra></extra>",
         "hovertext": [
          null
         ],
         "legendgroup": "andaman & nicobar islands",
         "marker": {
          "color": "#636efa",
          "opacity": 0.8,
          "symbol": "circle"
         },
         "mode": "markers",
         "name": "andaman & nicobar islands",
         "orientation": "v",
         "showlegend": true,
         "type": "scatter",
         "x": {
          "bdata": "AAAAAAAA+H8=",
          "dtype": "f8"
         },
         "xaxis": "x",
         "y": {
          "bdata": "ZmZmZmYGUEA=",
          "dtype": "f8"
         },
         "yaxis": "y"
        },
        {
         "hovertemplate": "<b>%{hovertext}</b><br><br>State=arunachal pradesh<br>Ad Spend (INR)=%{x}<br>Voter Turnout (%)=%{y}<extra></extra>",
         "hovertext": [
          "arunachal pradesh",
          "arunachal pradesh"
         ],
         "legendgroup": "arunachal pradesh",
         "marker": {
          "color": "#EF553B",
          "opacity": 0.8,
          "symbol": "circle"
         },
         "mode": "markers",
         "name": "arunachal pradesh",
         "orientation": "v",
         "showlegend": true,
         "type": "scatter",
         "x": {
          "bdata": "AAAAALYkNUEAAAAAtiQ1QQ==",
          "dtype": "f8"
         },
         "xaxis": "x",
         "y": {
          "bdata": "pHA9CtfTVEBmZmZmZmZSQA==",
          "dtype": "f8"
         },
         "yaxis": "y"
        },
        {
         "hovertemplate": "<b>%{hovertext}</b><br><br>State=assam<br>Ad Spend (INR)=%{x}<br>Voter Turnout (%)=%{y}<extra></extra>",
         "hovertext": [
          "assam",
          "assam",
          "assam",
          "assam",
          "assam",
          "assam",
          "assam",
          "assam",
          "assam",
          "assam",
          "assam",
          "assam",
          "assam",
          "assam"
         ],
         "legendgroup": "assam",
         "marker": {
          "color": "#00cc96",
          "opacity": 0.8,
          "symbol": "circle"
         },
         "mode": "markers",
         "name": "assam",
         "orientation": "v",
         "showlegend": true,
         "type": "scatter",
         "x": {
          "bdata": "AAAAsByrcEEAAACwHKtwQQAAALAcq3BBAAAAsByrcEEAAACwHKtwQQAAALAcq3BBAAAAsByrcEEAAACwHKtwQQAAALAcq3BBAAAAsByrcEEAAACwHKtwQQAAALAcq3BBAAAAsByrcEEAAACwHKtwQQ==",
          "dtype": "f8"
         },
         "xaxis": "x",
         "y": {
          "bdata": "AAAAAAAwU0ApXI/C9fhTQIXrUbge1VNAexSuR+EaU0A9CtejcJ1TQHE9CtejgFRAj8L1KFzvUkAfhetRuB5UQK5H4XoUPlVAMzMzMzPDU0CPwvUoXE9VQIXrUbgeBVdAKVyPwvWYU0AzMzMzM+NUQA==",
          "dtype": "f8"
         },
         "yaxis": "y"
        },
        {
         "hovertemplate": "<b>%{hovertext}</b><br><br>State=bihar<br>Ad Spend (INR)=%{x}<br>Voter Turnout (%)=%{y}<extra></extra>",
         "hovertext": [
          "bihar",
          "bihar",
          "bihar",
          "bihar",
          "bihar",
          "bihar",
          "bihar",
          "bihar",
          "bihar",
          "bihar",
          "bihar",
          "bihar",
          "bihar",
          "bihar",
          "bihar",
          "bihar",
          "bihar",
          "bihar",
          "bihar",
          "bihar",
          "bihar",
          "bihar",
          "bihar",
          "bihar",
          "bihar",
          "bihar",
          "bihar",
          "bihar",
          "bihar",
          "bihar",
          "bihar",
          "bihar",
          "bihar",
          "bihar",
          "bihar",
          "bihar",
          "bihar",
          "bihar",
          "bihar",
          "bihar"
         ],
         "legendgroup": "bihar",
         "marker": {
          "color": "#ab63fa",
          "opacity": 0.8,
          "symbol": "circle"
         },
         "mode": "markers",
         "name": "bihar",
         "orientation": "v",
         "showlegend": true,
         "type": "scatter",
         "x": {
          "bdata": "AAAAUFGRiUEAAABQUZGJQQAAAFBRkYlBAAAAUFGRiUEAAABQUZGJQQAAAFBRkYlBAAAAUFGRiUEAAABQUZGJQQAAAFBRkYlBAAAAUFGRiUEAAABQUZGJQQAAAFBRkYlBAAAAUFGRiUEAAABQUZGJQQAAAFBRkYlBAAAAUFGRiUEAAABQUZGJQQAAAFBRkYlBAAAAUFGRiUEAAABQUZGJQQAAAFBRkYlBAAAAUFGRiUEAAABQUZGJQQAAAFBRkYlBAAAAUFGRiUEAAABQUZGJQQAAAFBRkYlBAAAAUFGRiUEAAABQUZGJQQAAAFBRkYlBAAAAUFGRiUEAAABQUZGJQQAAAFBRkYlBAAAAUFGRiUEAAABQUZGJQQAAAFBRkYlBAAAAUFGRiUEAAABQUZGJQQAAAFBRkYlBAAAAUFGRiUE=",
          "dtype": "f8"
         },
         "xaxis": "x",
         "y": {
          "bdata": "zczMzMwsSUDhehSuR2FKQAAAAAAAoElA9ihcj8KVRUA9CtejcD1LQAAAAAAAwEpA4XoUrkfhT0DsUbgehWtPQArXo3A9ik9A16NwPQr3TkA9CtejcD1LQMP1KFyPwkxAhetRuB4lTUBmZmZmZsZPQJqZmZmZWU1Aj8L1KFyvTEBmZmZmZsZLQK5H4XoUDk5A7FG4HoXLTUDXo3A9CjdNQIXrUbgehUpAXI/C9Si8TUA9CtejcF1MQHsUrkfhGkxAKVyPwvUoSkDD9ShcjyJKQI/C9Shcz05A16NwPQrXTUAzMzMzM7NMQB+F61G4PkpA7FG4HoVLT0C4HoXrURhOQMP1KFyPIklAUrgeheuxS0DsUbgehYtLQNejcD0KV0tApHA9CtfjSEAfhetRuJ5NQM3MzMzMbEdAFK5H4XqUTEA=",
          "dtype": "f8"
         },
         "yaxis": "y"
        },
        {
         "hovertemplate": "<b>%{hovertext}</b><br><br>State=chhattisgarh<br>Ad Spend (INR)=%{x}<br>Voter Turnout (%)=%{y}<extra></extra>",
         "hovertext": [
          "chhattisgarh",
          "chhattisgarh",
          "chhattisgarh",
          "chhattisgarh",
          "chhattisgarh",
          "chhattisgarh",
          "chhattisgarh",
          "chhattisgarh",
          "chhattisgarh",
          "chhattisgarh",
          "chhattisgarh"
         ],
         "legendgroup": "chhattisgarh",
         "marker": {
          "color": "#FFA15A",
          "opacity": 0.8,
          "symbol": "circle"
         },
         "mode": "markers",
         "name": "chhattisgarh",
         "orientation": "v",
         "showlegend": true,
         "type": "scatter",
         "x": {
          "bdata": "AAAAwCo8bEEAAADAKjxsQQAAAMAqPGxBAAAAwCo8bEEAAADAKjxsQQAAAMAqPGxBAAAAwCo8bEEAAADAKjxsQQAAAMAqPGxBAAAAwCo8bEEAAADAKjxsQQ==",
          "dtype": "f8"
         },
         "xaxis": "x",
         "y": {
          "bdata": "w/UoXI8SUUAfhetRuA5TQOF6FK5HwVJAexSuR+FaU0DhehSuRzFQQOxRuB6Fa1JApHA9CtfjUEC4HoXrUehSQGZmZmZmtlNAFK5H4Xq0UEApXI/C9fhTQA==",
          "dtype": "f8"
         },
         "yaxis": "y"
        },
        {
         "hovertemplate": "<b>%{hovertext}</b><br><br>State=jammu and kashmir<br>Ad Spend (INR)=%{x}<br>Voter Turnout (%)=%{y}<extra></extra>",
         "hovertext": [
          "jammu and kashmir",
          "jammu and kashmir",
          "jammu and kashmir",
          "jammu and kashmir",
          "jammu and kashmir"
         ],
         "legendgroup": "jammu and kashmir",
         "marker": {
          "color": "#19d3f3",
          "opacity": 0.8,
          "symbol": "circle"
         },
         "mode": "markers",
         "name": "jammu and kashmir",
         "orientation": "v",
         "showlegend": true,
         "type": "scatter",
         "x": {
          "bdata": "AAAAQPUUWUEAAABA9RRZQQAAAED1FFlBAAAAQPUUWUEAAABA9RRZQQ==",
          "dtype": "f8"
         },
         "xaxis": "x",
         "y": {
          "bdata": "4XoUrkcRUUCuR+F6FA5SQB+F61G4PkNAzczMzMyMTUAzMzMzM7NLQA==",
          "dtype": "f8"
         },
         "yaxis": "y"
        },
        {
         "hovertemplate": "<b>%{hovertext}</b><br><br>State=lakshadweep<br>Ad Spend (INR)=%{x}<br>Voter Turnout (%)=%{y}<extra></extra>",
         "hovertext": [
          "lakshadweep"
         ],
         "legendgroup": "lakshadweep",
         "marker": {
          "color": "#FF6692",
          "opacity": 0.8,
          "symbol": "circle"
         },
         "mode": "markers",
         "name": "lakshadweep",
         "orientation": "v",
         "showlegend": true,
         "type": "scatter",
         "x": {
          "bdata": "AAAAAMBh00A=",
          "dtype": "f8"
         },
         "xaxis": "x",
         "y": {
          "bdata": "CtejcD0KVUA=",
          "dtype": "f8"
         },
         "yaxis": "y"
        },
        {
         "hovertemplate": "<b>%{hovertext}</b><br><br>State=madhya pradesh<br>Ad Spend (INR)=%{x}<br>Voter Turnout (%)=%{y}<extra></extra>",
         "hovertext": [
          "madhya pradesh",
          "madhya pradesh",
          "madhya pradesh",
          "madhya pradesh",
          "madhya pradesh",
          "madhya pradesh",
          "madhya pradesh",
          "madhya pradesh",
          "madhya pradesh",
          "madhya pradesh",
          "madhya pradesh",
          "madhya pradesh",
          "madhya pradesh",
          "madhya pradesh",
          "madhya pradesh",
          "madhya pradesh",
          "madhya pradesh",
          "madhya pradesh",
          "madhya pradesh",
          "madhya pradesh",
          "madhya pradesh",
          "madhya pradesh",
          "madhya pradesh",
          "madhya pradesh",
          "madhya pradesh",
          "madhya pradesh",
          "madhya pradesh",
          "madhya pradesh",
          "madhya pradesh"
         ],
         "legendgroup": "madhya pradesh",
         "marker": {
          "color": "#B6E880",
          "opacity": 0.8,
          "symbol": "circle"
         },
         "mode": "markers",
         "name": "madhya pradesh",
         "orientation": "v",
         "showlegend": true,
         "type": "scatter",
         "x": {
          "bdata": "AAAAwPMRg0EAAADA8xGDQQAAAMDzEYNBAAAAwPMRg0EAAADA8xGDQQAAAMDzEYNBAAAAwPMRg0EAAADA8xGDQQAAAMDzEYNBAAAAwPMRg0EAAADA8xGDQQAAAMDzEYNBAAAAwPMRg0EAAADA8xGDQQAAAMDzEYNBAAAAwPMRg0EAAADA8xGDQQAAAMDzEYNBAAAAwPMRg0EAAADA8xGDQQAAAMDzEYNBAAAAwPMRg0EAAADA8xGDQQAAAMDzEYNBAAAAwPMRg0EAAADA8xGDQQAAAMDzEYNBAAAAwPMRg0EAAADA8xGDQQ==",
          "dtype": "f8"
         },
         "xaxis": "x",
         "y": {
          "bdata": "zczMzMxcUkCF61G4HvVTQAAAAAAAgE5A9ihcj8I1UkDsUbgehStQQAAAAAAAQExAPQrXo3A9TEA9CtejcM1QQFyPwvUofExA16NwPQq3SEC4HoXrUfhOQAAAAAAAAE5AUrgehethUkDXo3A9CndLQKRwPQrXA1BA7FG4HoUbUkBxPQrXoxBPQFyPwvUofE1Aw/UoXI8CU0AAAAAAAHBQQB+F61G4nlJAH4XrUbjeUkBxPQrXozBSQPYoXI/C1U5A4XoUrkfhUUBSuB6F6wFTQOF6FK5H0VJAXI/C9Sg8UkAUrkfhenRSQA==",
          "dtype": "f8"
         },
         "yaxis": "y"
        },
        {
         "hovertemplate": "<b>%{hovertext}</b><br><br>State=maharashtra<br>Ad Spend (INR)=%{x}<br>Voter Turnout (%)=%{y}<extra></extra>",
         "hovertext": [
          "maharashtra",
          "maharashtra",
          "maharashtra",
          "maharashtra",
          "maharashtra",
          "maharashtra",
          "maharashtra",
          "maharashtra",
          "maharashtra",
          "maharashtra",
          "maharashtra",
          "maharashtra",
          "maharashtra",
          "maharashtra",
          "maharashtra",
          "maharashtra",
          "maharashtra",
          "maharashtra",
          "maharashtra",
          "maharashtra",
          "maharashtra",
          "maharashtra",
          "maharashtra",
          "maharashtra",
          "maharashtra",
          "maharashtra",
          "maharashtra",
          "maharashtra",
          "maharashtra",
          "maharashtra",
          "maharashtra",
          "maharashtra",
          "maharashtra",
          "maharashtra",
          "maharashtra",
          "maharashtra",
          "maharashtra",
          "maharashtra",
          "maharashtra",
          "maharashtra",
          "maharashtra",
          "maharashtra",
          "maharashtra",
          "maharashtra",
          "maharashtra",
          "maharashtra",
          "maharashtra",
          "maharashtra"
         ],
         "legendgroup": "maharashtra",
         "marker": {
          "color": "#FF97FF",
          "opacity": 0.8,
          "symbol": "circle"
         },
         "mode": "markers",
         "name": "maharashtra",
         "orientation": "v",
         "showlegend": true,
         "type": "scatter",
         "x": {
          "bdata": "AAAAjIZMmEEAAACMhkyYQQAAAIyGTJhBAAAAjIZMmEEAAACMhkyYQQAAAIyGTJhBAAAAjIZMmEEAAACMhkyYQQAAAIyGTJhBAAAAjIZMmEEAAACMhkyYQQAAAIyGTJhBAAAAjIZMmEEAAACMhkyYQQAAAIyGTJhBAAAAjIZMmEEAAACMhkyYQQAAAIyGTJhBAAAAjIZMmEEAAACMhkyYQQAAAIyGTJhBAAAAjIZMmEEAAACMhkyYQQAAAIyGTJhBAAAAjIZMmEEAAACMhkyYQQAAAIyGTJhBAAAAjIZMmEEAAACMhkyYQQAAAIyGTJhBAAAAjIZMmEEAAACMhkyYQQAAAIyGTJhBAAAAjIZMmEEAAACMhkyYQQAAAIyGTJhBAAAAjIZMmEEAAACMhkyYQQAAAIyGTJhBAAAAjIZMmEEAAACMhkyYQQAAAIyGTJhBAAAAjIZMmEEAAACMhkyYQQAAAIyGTJhBAAAAjIZMmEEAAACMhkyYQQAAAIyGTJhB",
          "dtype": "f8"
         },
         "xaxis": "x",
         "y": {
          "bdata": "w/UoXI/CUEAzMzMzM+NQQLgehetR+FFAKVyPwvUoS0DhehSuR4FOQIXrUbge5U5A9ihcj8LVT0CkcD0K1wNPQIXrUbgexU9AuB6F61F4TkDhehSuRyFPQGZmZmZmNlBAj8L1KFxvT0AAAAAAAMBNQNejcD0Kx1FA9ihcj8LlUUDsUbgehUtPQDMzMzMz009AcT0K16PwT0DhehSuR0FOQMP1KFyPQk9Aw/UoXI8iT0AUrkfhepRPQLgehetRmE1A16NwPQqnUECkcD0K14NPQHsUrkfhulFAXI/C9Sg8TUDsUbgehUtRQI/C9Shcb0tA7FG4HoWrUUCF61G4HsVKQFK4HoXrEVBApHA9CteDT0AUrkfhehRLQFK4HoXr8U1AexSuR+EaTkAAAAAAALBQQI/C9ShcD0lAw/UoXI+CTEA9CtejcP1JQI/C9ShcL0xA7FG4HoVrS0BI4XoUrgdJQM3MzMzMzEpAAAAAAABgTkAUrkfhevRPQOxRuB6FC0pA",
          "dtype": "f8"
         },
         "yaxis": "y"
        },
        {
         "hovertemplate": "<b>%{hovertext}</b><br><br>State=manipur<br>Ad Spend (INR)=%{x}<br>Voter Turnout (%)=%{y}<extra></extra>",
         "hovertext": [
          "manipur",
          "manipur",
          "manipur"
         ],
         "legendgroup": "manipur",
         "marker": {
          "color": "#FECB52",
          "opacity": 0.8,
          "symbol": "circle"
         },
         "mode": "markers",
         "name": "manipur",
         "orientation": "v",
         "showlegend": true,
         "type": "scatter",
         "x": {
          "bdata": "AAAAAMwhK0EAAAAAzCErQQAAAADMIStB",
          "dtype": "f8"
         },
         "xaxis": "x",
         "y": {
          "bdata": "mpmZmZkJVECF61G4HjVRQNejcD0KR1VA",
          "dtype": "f8"
         },
         "yaxis": "y"
        },
        {
         "hovertemplate": "<b>%{hovertext}</b><br><br>State=meghalaya<br>Ad Spend (INR)=%{x}<br>Voter Turnout (%)=%{y}<extra></extra>",
         "hovertext": [
          "meghalaya",
          "meghalaya"
         ],
         "legendgroup": "meghalaya",
         "marker": {
          "color": "#636efa",
          "opacity": 0.8,
          "symbol": "circle"
         },
         "mode": "markers",
         "name": "meghalaya",
         "orientation": "v",
         "showlegend": true,
         "type": "scatter",
         "x": {
          "bdata": "AAAAAPj7KkEAAAAA+PsqQQ==",
          "dtype": "f8"
         },
         "xaxis": "x",
         "y": {
          "bdata": "UrgehetxUkBI4XoUrldUQA==",
          "dtype": "f8"
         },
         "yaxis": "y"
        },
        {
         "hovertemplate": "<b>%{hovertext}</b><br><br>State=mizoram<br>Ad Spend (INR)=%{x}<br>Voter Turnout (%)=%{y}<extra></extra>",
         "hovertext": [
          "mizoram"
         ],
         "legendgroup": "mizoram",
         "marker": {
          "color": "#EF553B",
          "opacity": 0.8,
          "symbol": "circle"
         },
         "mode": "markers",
         "name": "mizoram",
         "orientation": "v",
         "showlegend": true,
         "type": "scatter",
         "x": {
          "bdata": "AAAAAHBcHUE=",
          "dtype": "f8"
         },
         "xaxis": "x",
         "y": {
          "bdata": "j8L1KFxvTEA=",
          "dtype": "f8"
         },
         "yaxis": "y"
        },
        {
         "hovertemplate": "<b>%{hovertext}</b><br><br>State=nagaland<br>Ad Spend (INR)=%{x}<br>Voter Turnout (%)=%{y}<extra></extra>",
         "hovertext": [
          "nagaland"
         ],
         "legendgroup": "nagaland",
         "marker": {
          "color": "#00cc96",
          "opacity": 0.8,
          "symbol": "circle"
         },
         "mode": "markers",
         "name": "nagaland",
         "orientation": "v",
         "showlegend": true,
         "type": "scatter",
         "x": {
          "bdata": "AAAAAARJIkE=",
          "dtype": "f8"
         },
         "xaxis": "x",
         "y": {
          "bdata": "XI/C9SjcTEA=",
          "dtype": "f8"
         },
         "yaxis": "y"
        },
        {
         "hovertemplate": "<b>%{hovertext}</b><br><br>State=puducherry<br>Ad Spend (INR)=%{x}<br>Voter Turnout (%)=%{y}<extra></extra>",
         "hovertext": [
          "puducherry"
         ],
         "legendgroup": "puducherry",
         "marker": {
          "color": "#ab63fa",
          "opacity": 0.8,
          "symbol": "circle"
         },
         "mode": "markers",
         "name": "puducherry",
         "orientation": "v",
         "showlegend": true,
         "type": "scatter",
         "x": {
          "bdata": "AAAAALhuN0E=",
          "dtype": "f8"
         },
         "xaxis": "x",
         "y": {
          "bdata": "mpmZmZm5U0A=",
          "dtype": "f8"
         },
         "yaxis": "y"
        },
        {
         "hovertemplate": "<b>%{hovertext}</b><br><br>State=rajasthan<br>Ad Spend (INR)=%{x}<br>Voter Turnout (%)=%{y}<extra></extra>",
         "hovertext": [
          "rajasthan",
          "rajasthan",
          "rajasthan",
          "rajasthan",
          "rajasthan",
          "rajasthan",
          "rajasthan",
          "rajasthan",
          "rajasthan",
          "rajasthan",
          "rajasthan",
          "rajasthan",
          "rajasthan",
          "rajasthan",
          "rajasthan",
          "rajasthan",
          "rajasthan",
          "rajasthan",
          "rajasthan",
          "rajasthan",
          "rajasthan",
          "rajasthan",
          "rajasthan",
          "rajasthan",
          "rajasthan"
         ],
         "legendgroup": "rajasthan",
         "marker": {
          "color": "#FFA15A",
          "opacity": 0.8,
          "symbol": "circle"
         },
         "mode": "markers",
         "name": "rajasthan",
         "orientation": "v",
         "showlegend": true,
         "type": "scatter",
         "x": {
          "bdata": "AAAAGKOtg0EAAAAYo62DQQAAABijrYNBAAAAGKOtg0EAAAAYo62DQQAAABijrYNBAAAAGKOtg0EAAAAYo62DQQAAABijrYNBAAAAGKOtg0EAAAAYo62DQQAAABijrYNBAAAAGKOtg0EAAAAYo62DQQAAABijrYNBAAAAGKOtg0EAAAAYo62DQQAAABijrYNBAAAAGKOtg0EAAAAYo62DQQAAABijrYNBAAAAGKOtg0EAAAAYo62DQQAAABijrYNBAAAAGKOtg0E=",
          "dtype": "f8"
         },
         "xaxis": "x",
         "y": {
          "bdata": "KVyPwvUITkBmZmZmZmZKQK5H4XoUDktArkfhehTOT0Bcj8L1KNxLQPYoXI/CpVBAcT0K16OwT0CamZmZmVlMQNejcD0Kd0pA7FG4HoXLSEA9CtejcJ1MQKRwPQrXw0xAFK5H4XrUTUC4HoXrUXhSQOxRuB6F+1JAj8L1KFwvTkDXo3A9CidRQFK4HoXrcU9APQrXo3BtUUDhehSuRxFQQHE9Ctej0FFAuB6F61GYTEBSuB6F6zFNQArXo3A9SkxACtejcD2qUEA=",
          "dtype": "f8"
         },
         "yaxis": "y"
        },
        {
         "hovertemplate": "<b>%{hovertext}</b><br><br>State=sikkim<br>Ad Spend (INR)=%{x}<br>Voter Turnout (%)=%{y}<extra></extra>",
         "hovertext": [
          "sikkim"
         ],
         "legendgroup": "sikkim",
         "marker": {
          "color": "#19d3f3",
          "opacity": 0.8,
          "symbol": "circle"
         },
         "mode": "markers",
         "name": "sikkim",
         "orientation": "v",
         "showlegend": true,
         "type": "scatter",
         "x": {
          "bdata": "AAAAQKi0UEE=",
          "dtype": "f8"
         },
         "xaxis": "x",
         "y": {
          "bdata": "uB6F61H4U0A=",
          "dtype": "f8"
         },
         "yaxis": "y"
        },
        {
         "hovertemplate": "<b>%{hovertext}</b><br><br>State=tamil nadu<br>Ad Spend (INR)=%{x}<br>Voter Turnout (%)=%{y}<extra></extra>",
         "hovertext": [
          "tamil nadu",
          "tamil nadu",
          "tamil nadu",
          "tamil nadu",
          "tamil nadu",
          "tamil nadu",
          "tamil nadu",
          "tamil nadu",
          "tamil nadu",
          "tamil nadu",
          "tamil nadu",
          "tamil nadu",
          "tamil nadu",
          "tamil nadu",
          "tamil nadu",
          "tamil nadu",
          "tamil nadu",
          "tamil nadu",
          "tamil nadu",
          "tamil nadu",
          "tamil nadu",
          "tamil nadu",
          "tamil nadu",
          "tamil nadu",
          "tamil nadu",
          "tamil nadu",
          "tamil nadu",
          "tamil nadu",
          "tamil nadu",
          "tamil nadu",
          "tamil nadu",
          "tamil nadu",
          "tamil nadu",
          "tamil nadu",
          "tamil nadu",
          "tamil nadu",
          "tamil nadu",
          "tamil nadu",
          "tamil nadu"
         ],
         "legendgroup": "tamil nadu",
         "marker": {
          "color": "#FF6692",
          "opacity": 0.8,
          "symbol": "circle"
         },
         "mode": "markers",
         "name": "tamil nadu",
         "orientation": "v",
         "showlegend": true,
         "type": "scatter",
         "x": {
          "bdata": "AAAAQKxEkkEAAABArESSQQAAAECsRJJBAAAAQKxEkkEAAABArESSQQAAAECsRJJBAAAAQKxEkkEAAABArESSQQAAAECsRJJBAAAAQKxEkkEAAABArESSQQAAAECsRJJBAAAAQKxEkkEAAABArESSQQAAAECsRJJBAAAAQKxEkkEAAABArESSQQAAAECsRJJBAAAAQKxEkkEAAABArESSQQAAAECsRJJBAAAAQKxEkkEAAABArESSQQAAAECsRJJBAAAAQKxEkkEAAABArESSQQAAAECsRJJBAAAAQKxEkkEAAABArESSQQAAAECsRJJBAAAAQKxEkkEAAABArESSQQAAAECsRJJBAAAAQKxEkkEAAABArESSQQAAAECsRJJBAAAAQKxEkkEAAABArESSQQAAAECsRJJB",
          "dtype": "f8"
         },
         "xaxis": "x",
         "y": {
          "bdata": "XI/C9SiMUkBxPQrXo/BSQHsUrkfh+kpArkfhehQOTkD2KFyPwhVLQEjhehSuF1NAKVyPwvU4UEAUrkfheiRSQM3MzMzMTFRAKVyPwvXIUUD2KFyPwqVRQD0K16NwzVNA7FG4HoXrUUBcj8L1KFxQQM3MzMzMrFNAAAAAAADgUUCF61G4HgVPQPYoXI/ChVFAXI/C9Sj8UUA9CtejcI1TQM3MzMzMvFFA7FG4HoVbU0AK16NwPZpRQFyPwvUoDFFACtejcD2KU0BxPQrXoxBQQAAAAAAAIE5AmpmZmZnpUEDhehSuRxFRQPYoXI/CdVFAuB6F61G4UEBxPQrXo+BQQGZmZmZmBlBASOF6FK6nUUD2KFyPwiVRQI/C9Shcj1JAUrgehethUkDhehSuRyFTQK5H4XoUjlFA",
          "dtype": "f8"
         },
         "yaxis": "y"
        },
        {
         "hovertemplate": "<b>%{hovertext}</b><br><br>State=tripura<br>Ad Spend (INR)=%{x}<br>Voter Turnout (%)=%{y}<extra></extra>",
         "hovertext": [
          "tripura",
          "tripura"
         ],
         "legendgroup": "tripura",
         "marker": {
          "color": "#B6E880",
          "opacity": 0.8,
          "symbol": "circle"
         },
         "mode": "markers",
         "name": "tripura",
         "orientation": "v",
         "showlegend": true,
         "type": "scatter",
         "x": {
          "bdata": "AAAAALNXPEEAAAAAs1c8QQ==",
          "dtype": "f8"
         },
         "xaxis": "x",
         "y": {
          "bdata": "H4XrUbheVEDXo3A9ChdUQA==",
          "dtype": "f8"
         },
         "yaxis": "y"
        },
        {
         "hovertemplate": "<b>%{hovertext}</b><br><br>State=uttar pradesh<br>Ad Spend (INR)=%{x}<br>Voter Turnout (%)=%{y}<extra></extra>",
         "hovertext": [
          "uttar pradesh",
          "uttar pradesh",
          "uttar pradesh",
          "uttar pradesh",
          "uttar pradesh",
          "uttar pradesh",
          "uttar pradesh",
          "uttar pradesh",
          "uttar pradesh",
          "uttar pradesh",
          "uttar pradesh",
          "uttar pradesh",
          "uttar pradesh",
          "uttar pradesh",
          "uttar pradesh",
          "uttar pradesh",
          "uttar pradesh",
          "uttar pradesh",
          "uttar pradesh",
          "uttar pradesh",
          "uttar pradesh",
          "uttar pradesh",
          "uttar pradesh",
          "uttar pradesh",
          "uttar pradesh",
          "uttar pradesh",
          "uttar pradesh",
          "uttar pradesh",
          "uttar pradesh",
          "uttar pradesh",
          "uttar pradesh",
          "uttar pradesh",
          "uttar pradesh",
          "uttar pradesh",
          "uttar pradesh",
          "uttar pradesh",
          "uttar pradesh",
          "uttar pradesh",
          "uttar pradesh",
          "uttar pradesh",
          "uttar pradesh",
          "uttar pradesh",
          "uttar pradesh",
          "uttar pradesh",
          "uttar pradesh",
          "uttar pradesh",
          "uttar pradesh",
          "uttar pradesh",
          "uttar pradesh",
          "uttar pradesh",
          "uttar pradesh",
          "uttar pradesh",
          "uttar pradesh",
          "uttar pradesh",
          "uttar pradesh",
          "uttar pradesh",
          "uttar pradesh",
          "uttar pradesh",
          "uttar pradesh",
          "uttar pradesh",
          "uttar pradesh",
          "uttar pradesh",
          "uttar pradesh",
          "uttar pradesh",
          "uttar pradesh",
          "uttar pradesh",
          "uttar pradesh",
          "uttar pradesh",
          "uttar pradesh",
          "uttar pradesh",
          "uttar pradesh",
          "uttar pradesh",
          "uttar pradesh",
          "uttar pradesh",
          "uttar pradesh",
          "uttar pradesh",
          "uttar pradesh",
          "uttar pradesh",
          "uttar pradesh",
          "uttar pradesh"
         ],
         "legendgroup": "uttar pradesh",
         "marker": {
          "color": "#FF97FF",
          "opacity": 0.8,
          "symbol": "circle"
         },
         "mode": "markers",
         "name": "uttar pradesh",
         "orientation": "v",
         "showlegend": true,
         "type": "scatter",
         "x": {
          "bdata": "AAAAjOhglUEAAACM6GCVQQAAAIzoYJVBAAAAjOhglUEAAACM6GCVQQAAAIzoYJVBAAAAjOhglUEAAACM6GCVQQAAAIzoYJVBAAAAjOhglUEAAACM6GCVQQAAAIzoYJVBAAAAjOhglUEAAACM6GCVQQAAAIzoYJVBAAAAjOhglUEAAACM6GCVQQAAAIzoYJVBAAAAjOhglUEAAACM6GCVQQAAAIzoYJVBAAAAjOhglUEAAACM6GCVQQAAAIzoYJVBAAAAjOhglUEAAACM6GCVQQAAAIzoYJVBAAAAjOhglUEAAACM6GCVQQAAAIzoYJVBAAAAjOhglUEAAACM6GCVQQAAAIzoYJVBAAAAjOhglUEAAACM6GCVQQAAAIzoYJVBAAAAjOhglUEAAACM6GCVQQAAAIzoYJVBAAAAjOhglUEAAACM6GCVQQAAAIzoYJVBAAAAjOhglUEAAACM6GCVQQAAAIzoYJVBAAAAjOhglUEAAACM6GCVQQAAAIzoYJVBAAAAjOhglUEAAACM6GCVQQAAAIzoYJVBAAAAjOhglUEAAACM6GCVQQAAAIzoYJVBAAAAjOhglUEAAACM6GCVQQAAAIzoYJVBAAAAjOhglUEAAACM6GCVQQAAAIzoYJVBAAAAjOhglUEAAACM6GCVQQAAAIzoYJVBAAAAjOhglUEAAACM6GCVQQAAAIzoYJVBAAAAjOhglUEAAACM6GCVQQAAAIzoYJVBAAAAjOhglUEAAACM6GCVQQAAAIzoYJVBAAAAjOhglUEAAACM6GCVQQAAAIzoYJVBAAAAjOhglUEAAACM6GCVQQAAAIzoYJVBAAAAjOhglUEAAACM6GCVQQ==",
          "dtype": "f8"
         },
         "xaxis": "x",
         "y": {
          "bdata": "PQrXo3BdTUB7FK5H4TpPQNejcD0KF09AcT0K16OQTUAAAAAAAGBOQK5H4XoUjk9AzczMzMzsS0ApXI/C9YhQQNejcD0Kd0xAhetRuB4lUEAUrkfhehRMQPYoXI/CNUxAcT0K16PQSkBxPQrXo/BIQBSuR+F6tEhAuB6F61F4TUAK16NwPQpLQLgehetRuExAzczMzMwsS0CkcD0K1wNNQEjhehSup01AuB6F61GYTECkcD0K10NNQHsUrkfh2ktAPQrXo3BdTUAUrkfhenRPQKRwPQrX40xA9ihcj8K1TEDD9ShcjyJQQK5H4XoULkxACtejcD2KTUDD9Shcj8JMQArXo3A9ik5AZmZmZmaGSkDsUbgehStQQFK4HoXr8UtArkfhehSuSkCF61G4HkVPQHsUrkfhuktA7FG4HoUrS0CamZmZmdlNQM3MzMzMzFBAUrgeheuRTUDsUbgehYtMQI/C9Shcz0lAzczMzMxMTkDXo3A9ChdMQK5H4XoU7k9A16NwPQrXS0BmZmZmZmZKQKRwPQrXI0pAcT0K16NwT0CPwvUoXA9NQClcj8L16ElACtejcD3KTkAUrkfhehRMQPYoXI/CVUxAKVyPwvWISkBcj8L1KPxJQOxRuB6Fy0tAcT0K16MwS0AfhetRuD5LQBSuR+F6dEhAmpmZmZm5SUApXI/C9UhKQArXo3A9akpAcT0K16PQS0BmZmZmZgZKQIXrUbge5UlACtejcD1KTkDhehSuR8FLQJqZmZmZuUtAZmZmZmaGS0DXo3A9CndLQClcj8L1yExASOF6FK4nTkD2KFyPwvVMQKRwPQrXY0xAcT0K16OwSUAfhetRuD5MQA==",
          "dtype": "f8"
         },
         "yaxis": "y"
        },
        {
         "hovertemplate": "<b>%{hovertext}</b><br><br>State=uttarakhand<br>Ad Spend (INR)=%{x}<br>Voter Turnout (%)=%{y}<extra></extra>",
         "hovertext": [
          "uttarakhand",
          "uttarakhand",
          "uttarakhand",
          "uttarakhand",
          "uttarakhand"
         ],
         "legendgroup": "uttarakhand",
         "marker": {
          "color": "#FECB52",
          "opacity": 0.8,
          "symbol": "circle"
         },
         "mode": "markers",
         "name": "uttarakhand",
         "orientation": "v",
         "showlegend": true,
         "type": "scatter",
         "x": {
          "bdata": "AAAAQIg9W0EAAABAiD1bQQAAAECIPVtBAAAAQIg9W0EAAABAiD1bQQ==",
          "dtype": "f8"
         },
         "xaxis": "x",
         "y": {
          "bdata": "H4XrUbheSED2KFyPwjVKQKRwPQrXw09AXI/C9Sg8T0DhehSuR+FKQA==",
          "dtype": "f8"
         },
         "yaxis": "y"
        },
        {
         "hovertemplate": "<b>%{hovertext}</b><br><br>State=west bengal<br>Ad Spend (INR)=%{x}<br>Voter Turnout (%)=%{y}<extra></extra>",
         "hovertext": [
          "west bengal",
          "west bengal",
          "west bengal",
          "west bengal",
          "west bengal",
          "west bengal",
          "west bengal",
          "west bengal",
          "west bengal",
          "west bengal",
          "west bengal",
          "west bengal",
          "west bengal",
          "west bengal",
          "west bengal",
          "west bengal",
          "west bengal",
          "west bengal",
          "west bengal",
          "west bengal",
          "west bengal",
          "west bengal",
          "west bengal",
          "west bengal",
          "west bengal",
          "west bengal",
          "west bengal",
          "west bengal",
          "west bengal",
          "west bengal",
          "west bengal",
          "west bengal",
          "west bengal",
          "west bengal",
          "west bengal",
          "west bengal",
          "west bengal",
          "west bengal",
          "west bengal",
          "west bengal",
          "west bengal",
          "west bengal"
         ],
         "legendgroup": "west bengal",
         "marker": {
          "color": "#636efa",
          "opacity": 0.8,
          "symbol": "circle"
         },
         "mode": "markers",
         "name": "west bengal",
         "orientation": "v",
         "showlegend": true,
         "type": "scatter",
         "x": {
          "bdata": "AAAAEKlqkkEAAAAQqWqSQQAAABCpapJBAAAAEKlqkkEAAAAQqWqSQQAAABCpapJBAAAAEKlqkkEAAAAQqWqSQQAAABCpapJBAAAAEKlqkkEAAAAQqWqSQQAAABCpapJBAAAAEKlqkkEAAAAQqWqSQQAAABCpapJBAAAAEKlqkkEAAAAQqWqSQQAAABCpapJBAAAAEKlqkkEAAAAQqWqSQQAAABCpapJBAAAAEKlqkkEAAAAQqWqSQQAAABCpapJBAAAAEKlqkkEAAAAQqWqSQQAAABCpapJBAAAAEKlqkkEAAAAQqWqSQQAAABCpapJBAAAAEKlqkkEAAAAQqWqSQQAAABCpapJBAAAAEKlqkkEAAAAQqWqSQQAAABCpapJBAAAAEKlqkkEAAAAQqWqSQQAAABCpapJBAAAAEKlqkkEAAAAQqWqSQQAAABCpapJB",
          "dtype": "f8"
         },
         "xaxis": "x",
         "y": {
          "bdata": "cT0K16PwU0AK16NwPYpUQArXo3A96lRA9ihcj8LFU0BxPQrXo7BSQOxRuB6FC1NArkfhehTuUkBcj8L1KCxTQFK4HoXrAVNA4XoUrkdhVEDhehSuR1FSQMP1KFyPYlNAZmZmZma2VECuR+F6FC5UQArXo3A9elRACtejcD2qVECamZmZmSlUQEjhehSud1RASOF6FK6nVEDD9Shcj0JUQArXo3A92lJAuB6F61FYVEAfhetRuO5RQFyPwvUoHFNAUrgehevxU0AAAAAAADBUQArXo3A9elVAexSuR+GKVECuR+F6FN5UQOF6FK5HMVVApHA9CtdjVEApXI/C9ZhTQMP1KFyPMlVAexSuR+EKVECkcD0K1xNVQMP1KFyPQlRApHA9CtdzUkDsUbgehStTQIXrUbgeBVRAzczMzMy8UEDsUbgehctPQOF6FK5HgVRA",
          "dtype": "f8"
         },
         "yaxis": "y"
        },
        {
         "hovertemplate": "<b>%{hovertext}</b><br><br>State=karnataka<br>Ad Spend (INR)=%{x}<br>Voter Turnout (%)=%{y}<extra></extra>",
         "hovertext": [
          "karnataka",
          "karnataka",
          "karnataka",
          "karnataka",
          "karnataka",
          "karnataka",
          "karnataka",
          "karnataka",
          "karnataka",
          "karnataka",
          "karnataka",
          "karnataka",
          "karnataka",
          "karnataka",
          "karnataka",
          "karnataka",
          "karnataka",
          "karnataka",
          "karnataka",
          "karnataka",
          "karnataka",
          "karnataka",
          "karnataka",
          "karnataka",
          "karnataka",
          "karnataka",
          "karnataka",
          "karnataka"
         ],
         "legendgroup": "karnataka",
         "marker": {
          "color": "#00cc96",
          "opacity": 0.8,
          "symbol": "circle"
         },
         "mode": "markers",
         "name": "karnataka",
         "orientation": "v",
         "showlegend": true,
         "type": "scatter",
         "x": {
          "bdata": "AAAAKGDdg0EAAAAoYN2DQQAAAChg3YNBAAAAKGDdg0EAAAAoYN2DQQAAAChg3YNBAAAAKGDdg0EAAAAoYN2DQQAAAChg3YNBAAAAKGDdg0EAAAAoYN2DQQAAAChg3YNBAAAAKGDdg0EAAAAoYN2DQQAAAChg3YNBAAAAKGDdg0EAAAAoYN2DQQAAAChg3YNBAAAAKGDdg0EAAAAoYN2DQQAAAChg3YNBAAAAKGDdg0EAAAAoYN2DQQAAAChg3YNBAAAAKGDdg0EAAAAoYN2DQQAAAChg3YNBAAAAKGDdg0E=",
          "dtype": "f8"
         },
         "xaxis": "x",
         "y": {
          "bdata": "SOF6FK4HS0CamZmZmTlLQDMzMzMzE1FA9ihcj8KVSkAUrkfhejRTQAAAAAAAQFNAMzMzMzNTUkCkcD0K12NTQOxRuB6Fa1NA4XoUrkeRU0B7FK5H4WpUQEjhehSup1FAMzMzMzODU0CamZmZmUlTQArXo3A9KlJAj8L1KFzfUUD2KFyPwmVSQK5H4XoUXlBAFK5H4XqUUEAK16NwPapTQI/C9ShcP1NASOF6FK6XUkAAAAAAACBPQGZmZmZmZlNAj8L1KFy/UUAK16NwPSpQQIXrUbgelVNAUrgeheshU0A=",
          "dtype": "f8"
         },
         "yaxis": "y"
        },
        {
         "hovertemplate": "<b>%{hovertext}</b><br><br>State=kerala<br>Ad Spend (INR)=%{x}<br>Voter Turnout (%)=%{y}<extra></extra>",
         "hovertext": [
          "kerala",
          "kerala",
          "kerala",
          "kerala",
          "kerala",
          "kerala",
          "kerala",
          "kerala",
          "kerala",
          "kerala",
          "kerala",
          "kerala",
          "kerala",
          "kerala",
          "kerala",
          "kerala",
          "kerala",
          "kerala",
          "kerala",
          "kerala"
         ],
         "legendgroup": "kerala",
         "marker": {
          "color": "#ab63fa",
          "opacity": 0.8,
          "symbol": "circle"
         },
         "mode": "markers",
         "name": "kerala",
         "orientation": "v",
         "showlegend": true,
         "type": "scatter",
         "x": {
          "bdata": "AAAAEGehdUEAAAAQZ6F1QQAAABBnoXVBAAAAEGehdUEAAAAQZ6F1QQAAABBnoXVBAAAAEGehdUEAAAAQZ6F1QQAAABBnoXVBAAAAEGehdUEAAAAQZ6F1QQAAABBnoXVBAAAAEGehdUEAAAAQZ6F1QQAAABBnoXVBAAAAEGehdUEAAAAQZ6F1QQAAABBnoXVBAAAAEGehdUEAAAAQZ6F1QQ==",
          "dtype": "f8"
         },
         "xaxis": "x",
         "y": {
          "bdata": "MzMzMzPDUkB7FK5H4VpSQB+F61G4XlFAXI/C9Sj8UUDD9ShcjxJRQDMzMzMzo1BAPQrXo3BNU0DD9ShcjwJTQJqZmZmZCVFA16NwPQpnUEDhehSuR+FSQM3MzMzMPFJAzczMzMx8UEAUrkfhemRSQI/C9Shcr09A9ihcj8JVUUCuR+F6FJ5QQJqZmZmZOVJACtejcD2aU0AUrkfhemRSQA==",
          "dtype": "f8"
         },
         "yaxis": "y"
        },
        {
         "hovertemplate": "<b>%{hovertext}</b><br><br>State=dadra & nagar haveli and\ndaman & diu<br>Ad Spend (INR)=%{x}<br>Voter Turnout (%)=%{y}<extra></extra>",
         "hovertext": [
          null,
          null
         ],
         "legendgroup": "dadra & nagar haveli and\ndaman & diu",
         "marker": {
          "color": "#FFA15A",
          "opacity": 0.8,
          "symbol": "circle"
         },
         "mode": "markers",
         "name": "dadra & nagar haveli and\ndaman & diu",
         "orientation": "v",
         "showlegend": true,
         "type": "scatter",
         "x": {
          "bdata": "AAAAAAAA+H8AAAAAAAD4fw==",
          "dtype": "f8"
         },
         "xaxis": "x",
         "y": {
          "bdata": "4XoUrkchUkDhehSuRzFRQA==",
          "dtype": "f8"
         },
         "yaxis": "y"
        },
        {
         "hovertemplate": "<b>%{hovertext}</b><br><br>State=goa<br>Ad Spend (INR)=%{x}<br>Voter Turnout (%)=%{y}<extra></extra>",
         "hovertext": [
          "goa",
          "goa"
         ],
         "legendgroup": "goa",
         "marker": {
          "color": "#19d3f3",
          "opacity": 0.8,
          "symbol": "circle"
         },
         "mode": "markers",
         "name": "goa",
         "orientation": "v",
         "showlegend": true,
         "type": "scatter",
         "x": {
          "bdata": "AAAAgPiCQEEAAACA+IJAQQ==",
          "dtype": "f8"
         },
         "xaxis": "x",
         "y": {
          "bdata": "XI/C9ShsU0CuR+F6FJ5SQA==",
          "dtype": "f8"
         },
         "yaxis": "y"
        },
        {
         "hovertemplate": "<b>%{hovertext}</b><br><br>State=gujarat<br>Ad Spend (INR)=%{x}<br>Voter Turnout (%)=%{y}<extra></extra>",
         "hovertext": [
          "gujarat",
          "gujarat",
          "gujarat",
          "gujarat",
          "gujarat",
          "gujarat",
          "gujarat",
          "gujarat",
          "gujarat",
          "gujarat",
          "gujarat",
          "gujarat",
          "gujarat",
          "gujarat",
          "gujarat",
          "gujarat",
          "gujarat",
          "gujarat",
          "gujarat",
          "gujarat",
          "gujarat",
          "gujarat",
          "gujarat",
          "gujarat",
          "gujarat"
         ],
         "legendgroup": "gujarat",
         "marker": {
          "color": "#FF6692",
          "opacity": 0.8,
          "symbol": "circle"
         },
         "mode": "markers",
         "name": "gujarat",
         "orientation": "v",
         "showlegend": true,
         "type": "scatter",
         "x": {
          "bdata": "AAAAuL1Gg0EAAAC4vUaDQQAAALi9RoNBAAAAuL1Gg0EAAAC4vUaDQQAAALi9RoNBAAAAuL1Gg0EAAAC4vUaDQQAAALi9RoNBAAAAuL1Gg0EAAAC4vUaDQQAAALi9RoNBAAAAuL1Gg0EAAAC4vUaDQQAAALi9RoNBAAAAuL1Gg0EAAAC4vUaDQQAAALi9RoNBAAAAuL1Gg0EAAAC4vUaDQQAAALi9RoNBAAAAuL1Gg0EAAAC4vUaDQQAAALi9RoNBAAAAuL1Gg0E=",
          "dtype": "f8"
         },
         "xaxis": "x",
         "y": {
          "bdata": "XI/C9ShcS0CamZmZmblLQIXrUbgeJUlAw/UoXI9CUEBI4XoUrmdRQKRwPQrXM1BACtejcD1KUUD2KFyPwvVKQJqZmZmZSVFASOF6FK6nTUBmZmZmZuZNQPYoXI/C1UxAFK5H4Xp0TUBSuB6F6xFMQI/C9ShcD01ArkfhehTuTUAUrkfhetRNQM3MzMzMbE1ASOF6FK5HTUAK16NwPepJQLgehetR2E1ASOF6FK7HT0DsUbgehYtLQOxRuB6Fy05APQrXo3AtUkA=",
          "dtype": "f8"
         },
         "yaxis": "y"
        },
        {
         "hovertemplate": "<b>%{hovertext}</b><br><br>State=andhra pradesh<br>Ad Spend (INR)=%{x}<br>Voter Turnout (%)=%{y}<extra></extra>",
         "hovertext": [
          "andhra pradesh",
          "andhra pradesh",
          "andhra pradesh",
          "andhra pradesh",
          "andhra pradesh",
          "andhra pradesh",
          "andhra pradesh",
          "andhra pradesh",
          "andhra pradesh",
          "andhra pradesh",
          "andhra pradesh",
          "andhra pradesh",
          "andhra pradesh",
          "andhra pradesh",
          "andhra pradesh",
          "andhra pradesh",
          "andhra pradesh",
          "andhra pradesh",
          "andhra pradesh",
          "andhra pradesh",
          "andhra pradesh",
          "andhra pradesh",
          "andhra pradesh",
          "andhra pradesh",
          "andhra pradesh"
         ],
         "legendgroup": "andhra pradesh",
         "marker": {
          "color": "#B6E880",
          "opacity": 0.8,
          "symbol": "circle"
         },
         "mode": "markers",
         "name": "andhra pradesh",
         "orientation": "v",
         "showlegend": true,
         "type": "scatter",
         "x": {
          "bdata": "AAAAUIwJmEEAAABQjAmYQQAAAFCMCZhBAAAAUIwJmEEAAABQjAmYQQAAAFCMCZhBAAAAUIwJmEEAAABQjAmYQQAAAFCMCZhBAAAAUIwJmEEAAABQjAmYQQAAAFCMCZhBAAAAUIwJmEEAAABQjAmYQQAAAFCMCZhBAAAAUIwJmEEAAABQjAmYQQAAAFCMCZhBAAAAUIwJmEEAAABQjAmYQQAAAFCMCZhBAAAAUIwJmEEAAABQjAmYQQAAAFCMCZhBAAAAUIwJmEE=",
          "dtype": "f8"
         },
         "xaxis": "x",
         "y": {
          "bdata": "ZmZmZmb2VEBSuB6F64FUQHE9CtejIFRA7FG4HoVrUkAfhetRuF5VQOF6FK5HcVVA7FG4HoXrVECkcD0K17NTQM3MzMzMLFVAFK5H4XrkU0AzMzMzMxNUQDMzMzMzM1NAMzMzMzMDVUDXo3A9CidUQPYoXI/CpVRAmpmZmZlpVUAzMzMzM8NTQKRwPQrXw1VA7FG4HoU7VED2KFyPwsVTQOxRuB6Fm1JAZmZmZmbGU0BI4XoUrtdTQNejcD0Kx1FAMzMzMzNDVEA=",
          "dtype": "f8"
         },
         "yaxis": "y"
        },
        {
         "hovertemplate": "<b>%{hovertext}</b><br><br>State=jharkhand<br>Ad Spend (INR)=%{x}<br>Voter Turnout (%)=%{y}<extra></extra>",
         "hovertext": [
          "jharkhand",
          "jharkhand",
          "jharkhand",
          "jharkhand",
          "jharkhand",
          "jharkhand",
          "jharkhand",
          "jharkhand",
          "jharkhand",
          "jharkhand",
          "jharkhand",
          "jharkhand",
          "jharkhand",
          "jharkhand"
         ],
         "legendgroup": "jharkhand",
         "marker": {
          "color": "#FF97FF",
          "opacity": 0.8,
          "symbol": "circle"
         },
         "mode": "markers",
         "name": "jharkhand",
         "orientation": "v",
         "showlegend": true,
         "type": "scatter",
         "x": {
          "bdata": "AAAAYB0+b0EAAABgHT5vQQAAAGAdPm9BAAAAYB0+b0EAAABgHT5vQQAAAGAdPm9BAAAAYB0+b0EAAABgHT5vQQAAAGAdPm9BAAAAYB0+b0EAAABgHT5vQQAAAGAdPm9BAAAAYB0+b0EAAABgHT5vQQ==",
          "dtype": "f8"
         },
         "xaxis": "x",
         "y": {
          "bdata": "7FG4HoV7UUDNzMzMzJxQQMP1KFyPok5AFK5H4XpUUUC4HoXrUdhPQClcj8L1GFBASOF6FK7nTkBI4XoUrgdPQB+F61G4zlBA7FG4HoXrUEDXo3A9CldQQEjhehSud1JAuB6F61EoUUBSuB6F67FRQA==",
          "dtype": "f8"
         },
         "yaxis": "y"
        },
        {
         "hovertemplate": "<b>%{hovertext}</b><br><br>State=odisha<br>Ad Spend (INR)=%{x}<br>Voter Turnout (%)=%{y}<extra></extra>",
         "hovertext": [
          "odisha",
          "odisha",
          "odisha",
          "odisha",
          "odisha",
          "odisha",
          "odisha",
          "odisha",
          "odisha",
          "odisha",
          "odisha",
          "odisha",
          "odisha",
          "odisha",
          "odisha",
          "odisha",
          "odisha",
          "odisha",
          "odisha",
          "odisha",
          "odisha"
         ],
         "legendgroup": "odisha",
         "marker": {
          "color": "#FECB52",
          "opacity": 0.8,
          "symbol": "circle"
         },
         "mode": "markers",
         "name": "odisha",
         "orientation": "v",
         "showlegend": true,
         "type": "scatter",
         "x": {
          "bdata": "AAAA6tx8pUEAAADq3HylQQAAAOrcfKVBAAAA6tx8pUEAAADq3HylQQAAAOrcfKVBAAAA6tx8pUEAAADq3HylQQAAAOrcfKVBAAAA6tx8pUEAAADq3HylQQAAAOrcfKVBAAAA6tx8pUEAAADq3HylQQAAAOrcfKVBAAAA6tx8pUEAAADq3HylQQAAAOrcfKVBAAAA6tx8pUEAAADq3HylQQAAAOrcfKVB",
          "dtype": "f8"
         },
         "xaxis": "x",
         "y": {
          "bdata": "CtejcD1aUECamZmZmXlTQFK4HoXrYVNACtejcD2KVED2KFyPwlVPQFK4HoXr8VNA4XoUrkdhU0AK16NwPYpSQOF6FK5HQVJAj8L1KFwfUEDNzMzMzMxRQHE9CtejgFNArkfhehS+U0DsUbgehdtSQAAAAAAA4FNA4XoUrkcxU0AfhetRuE5SQB+F61G43lJArkfhehSeUkCuR+F6FM5RQMP1KFyP8lJA",
          "dtype": "f8"
         },
         "yaxis": "y"
        },
        {
         "hovertemplate": "<b>%{hovertext}</b><br><br>State=telangana<br>Ad Spend (INR)=%{x}<br>Voter Turnout (%)=%{y}<extra></extra>",
         "hovertext": [
          "telangana",
          "telangana",
          "telangana",
          "telangana",
          "telangana",
          "telangana",
          "telangana",
          "telangana",
          "telangana",
          "telangana",
          "telangana",
          "telangana",
          "telangana",
          "telangana",
          "telangana",
          "telangana",
          "telangana"
         ],
         "legendgroup": "telangana",
         "marker": {
          "color": "#636efa",
          "opacity": 0.8,
          "symbol": "circle"
         },
         "mode": "markers",
         "name": "telangana",
         "orientation": "v",
         "showlegend": true,
         "type": "scatter",
         "x": {
          "bdata": "AAAAMF38iUEAAAAwXfyJQQAAADBd/IlBAAAAMF38iUEAAAAwXfyJQQAAADBd/IlBAAAAMF38iUEAAAAwXfyJQQAAADBd/IlBAAAAMF38iUEAAAAwXfyJQQAAADBd/IlBAAAAMF38iUEAAAAwXfyJQQAAADBd/IlBAAAAMF38iUEAAAAwXfyJQQ==",
          "dtype": "f8"
         },
         "xaxis": "x",
         "y": {
          "bdata": "UrgeheuBUkBSuB6F6zFTQDMzMzMzM0xAPQrXo3A9SEDD9ShcjyJSQPYoXI/CBVNAZmZmZmb2UUDsUbgehRtSQKRwPQrXY0lA9ihcj8LFUkA9CtejcF1RQOF6FK5HgVJAexSuR+H6UUBI4XoUrvdQQIXrUbgehUhA16NwPQo3UUC4HoXrUahSQA==",
          "dtype": "f8"
         },
         "yaxis": "y"
        },
        {
         "hovertemplate": "<b>%{hovertext}</b><br><br>State=ladakh<br>Ad Spend (INR)=%{x}<br>Voter Turnout (%)=%{y}<extra></extra>",
         "hovertext": [
          null
         ],
         "legendgroup": "ladakh",
         "marker": {
          "color": "#EF553B",
          "opacity": 0.8,
          "symbol": "circle"
         },
         "mode": "markers",
         "name": "ladakh",
         "orientation": "v",
         "showlegend": true,
         "type": "scatter",
         "x": {
          "bdata": "AAAAAAAA+H8=",
          "dtype": "f8"
         },
         "xaxis": "x",
         "y": {
          "bdata": "FK5H4Xr0UUA=",
          "dtype": "f8"
         },
         "yaxis": "y"
        },
        {
         "hovertemplate": "<b>%{hovertext}</b><br><br>State=haryana<br>Ad Spend (INR)=%{x}<br>Voter Turnout (%)=%{y}<extra></extra>",
         "hovertext": [
          "haryana",
          "haryana",
          "haryana",
          "haryana",
          "haryana",
          "haryana",
          "haryana",
          "haryana",
          "haryana",
          "haryana"
         ],
         "legendgroup": "haryana",
         "marker": {
          "color": "#00cc96",
          "opacity": 0.8,
          "symbol": "circle"
         },
         "mode": "markers",
         "name": "haryana",
         "orientation": "v",
         "showlegend": true,
         "type": "scatter",
         "x": {
          "bdata": "AAAAmE7gg0EAAACYTuCDQQAAAJhO4INBAAAAmE7gg0EAAACYTuCDQQAAAJhO4INBAAAAmE7gg0EAAACYTuCDQQAAAJhO4INBAAAAmE7gg0E=",
          "dtype": "f8"
         },
         "xaxis": "x",
         "y": {
          "bdata": "9ihcj8LVUEApXI/C9VhQQMP1KFyPQk5ApHA9CtcDT0DhehSuR1FQQB+F61G43k9AcT0K16PAUEDsUbgehWtQQOF6FK5HcVFAuB6F61G4T0A=",
          "dtype": "f8"
         },
         "yaxis": "y"
        },
        {
         "hovertemplate": "<b>%{hovertext}</b><br><br>State=nct of delhi<br>Ad Spend (INR)=%{x}<br>Voter Turnout (%)=%{y}<extra></extra>",
         "hovertext": [
          null,
          null,
          null,
          null,
          null,
          null,
          null
         ],
         "legendgroup": "nct of delhi",
         "marker": {
          "color": "#ab63fa",
          "opacity": 0.8,
          "symbol": "circle"
         },
         "mode": "markers",
         "name": "nct of delhi",
         "orientation": "v",
         "showlegend": true,
         "type": "scatter",
         "x": {
          "bdata": "AAAAAAAA+H8AAAAAAAD4fwAAAAAAAPh/AAAAAAAA+H8AAAAAAAD4fwAAAAAAAPh/AAAAAAAA+H8=",
          "dtype": "f8"
         },
         "xaxis": "x",
         "y": {
          "bdata": "zczMzMxMTUDhehSuR8FNQNejcD0Kt0tAUrgehetxT0DNzMzMzOxMQJqZmZmZOUxAhetRuB5lTUA=",
          "dtype": "f8"
         },
         "yaxis": "y"
        },
        {
         "hovertemplate": "<b>%{hovertext}</b><br><br>State=chandigarh<br>Ad Spend (INR)=%{x}<br>Voter Turnout (%)=%{y}<extra></extra>",
         "hovertext": [
          "chandigarh"
         ],
         "legendgroup": "chandigarh",
         "marker": {
          "color": "#FFA15A",
          "opacity": 0.8,
          "symbol": "circle"
         },
         "mode": "markers",
         "name": "chandigarh",
         "orientation": "v",
         "showlegend": true,
         "type": "scatter",
         "x": {
          "bdata": "AAAAgL7SWEE=",
          "dtype": "f8"
         },
         "xaxis": "x",
         "y": {
          "bdata": "H4XrUbj+UEA=",
          "dtype": "f8"
         },
         "yaxis": "y"
        },
        {
         "hovertemplate": "<b>%{hovertext}</b><br><br>State=himachal pradesh<br>Ad Spend (INR)=%{x}<br>Voter Turnout (%)=%{y}<extra></extra>",
         "hovertext": [
          "himachal pradesh",
          "himachal pradesh",
          "himachal pradesh",
          "himachal pradesh"
         ],
         "legendgroup": "himachal pradesh",
         "marker": {
          "color": "#19d3f3",
          "opacity": 0.8,
          "symbol": "circle"
         },
         "mode": "markers",
         "name": "himachal pradesh",
         "orientation": "v",
         "showlegend": true,
         "type": "scatter",
         "x": {
          "bdata": "AAAAAAzpZkEAAAAADOlmQQAAAAAM6WZBAAAAAAzpZkE=",
          "dtype": "f8"
         },
         "xaxis": "x",
         "y": {
          "bdata": "pHA9CtfjUUApXI/C9fhQQJqZmZmZSVJAcT0K16PQUUA=",
          "dtype": "f8"
         },
         "yaxis": "y"
        },
        {
         "hovertemplate": "<b>%{hovertext}</b><br><br>State=punjab<br>Ad Spend (INR)=%{x}<br>Voter Turnout (%)=%{y}<extra></extra>",
         "hovertext": [
          null,
          null,
          null,
          null,
          null,
          null,
          null,
          null,
          null,
          null,
          null,
          null,
          null
         ],
         "legendgroup": "punjab",
         "marker": {
          "color": "#FF6692",
          "opacity": 0.8,
          "symbol": "circle"
         },
         "mode": "markers",
         "name": "punjab",
         "orientation": "v",
         "showlegend": true,
         "type": "scatter",
         "x": {
          "bdata": "AAAAAAAA+H8AAAAAAAD4fwAAAAAAAPh/AAAAAAAA+H8AAAAAAAD4fwAAAAAAAPh/AAAAAAAA+H8AAAAAAAD4fwAAAAAAAPh/AAAAAAAA+H8AAAAAAAD4fwAAAAAAAPh/AAAAAAAA+H8=",
          "dtype": "f8"
         },
         "xaxis": "x",
         "y": {
          "bdata": "SOF6FK4HTEA9CtejcP1OQNejcD0KV1FA7FG4HoWrT0CkcD0K10NPQOF6FK5HwVBAexSuR+GqUECuR+F6FG5NQJqZmZmZ2U1AZmZmZmZGT0CPwvUoXA9OQHE9Ctej0E9AuB6F61EoUEA=",
          "dtype": "f8"
         },
         "yaxis": "y"
        }
       ],
       "layout": {
        "height": 600,
        "legend": {
         "title": {
          "text": "State"
         },
         "tracegroupgap": 0
        },
        "template": {
         "data": {
          "bar": [
           {
            "error_x": {
             "color": "#2a3f5f"
            },
            "error_y": {
             "color": "#2a3f5f"
            },
            "marker": {
             "line": {
              "color": "white",
              "width": 0.5
             },
             "pattern": {
              "fillmode": "overlay",
              "size": 10,
              "solidity": 0.2
             }
            },
            "type": "bar"
           }
          ],
          "barpolar": [
           {
            "marker": {
             "line": {
              "color": "white",
              "width": 0.5
             },
             "pattern": {
              "fillmode": "overlay",
              "size": 10,
              "solidity": 0.2
             }
            },
            "type": "barpolar"
           }
          ],
          "carpet": [
           {
            "aaxis": {
             "endlinecolor": "#2a3f5f",
             "gridcolor": "#C8D4E3",
             "linecolor": "#C8D4E3",
             "minorgridcolor": "#C8D4E3",
             "startlinecolor": "#2a3f5f"
            },
            "baxis": {
             "endlinecolor": "#2a3f5f",
             "gridcolor": "#C8D4E3",
             "linecolor": "#C8D4E3",
             "minorgridcolor": "#C8D4E3",
             "startlinecolor": "#2a3f5f"
            },
            "type": "carpet"
           }
          ],
          "choropleth": [
           {
            "colorbar": {
             "outlinewidth": 0,
             "ticks": ""
            },
            "type": "choropleth"
           }
          ],
          "contour": [
           {
            "colorbar": {
             "outlinewidth": 0,
             "ticks": ""
            },
            "colorscale": [
             [
              0,
              "#0d0887"
             ],
             [
              0.1111111111111111,
              "#46039f"
             ],
             [
              0.2222222222222222,
              "#7201a8"
             ],
             [
              0.3333333333333333,
              "#9c179e"
             ],
             [
              0.4444444444444444,
              "#bd3786"
             ],
             [
              0.5555555555555556,
              "#d8576b"
             ],
             [
              0.6666666666666666,
              "#ed7953"
             ],
             [
              0.7777777777777778,
              "#fb9f3a"
             ],
             [
              0.8888888888888888,
              "#fdca26"
             ],
             [
              1,
              "#f0f921"
             ]
            ],
            "type": "contour"
           }
          ],
          "contourcarpet": [
           {
            "colorbar": {
             "outlinewidth": 0,
             "ticks": ""
            },
            "type": "contourcarpet"
           }
          ],
          "heatmap": [
           {
            "colorbar": {
             "outlinewidth": 0,
             "ticks": ""
            },
            "colorscale": [
             [
              0,
              "#0d0887"
             ],
             [
              0.1111111111111111,
              "#46039f"
             ],
             [
              0.2222222222222222,
              "#7201a8"
             ],
             [
              0.3333333333333333,
              "#9c179e"
             ],
             [
              0.4444444444444444,
              "#bd3786"
             ],
             [
              0.5555555555555556,
              "#d8576b"
             ],
             [
              0.6666666666666666,
              "#ed7953"
             ],
             [
              0.7777777777777778,
              "#fb9f3a"
             ],
             [
              0.8888888888888888,
              "#fdca26"
             ],
             [
              1,
              "#f0f921"
             ]
            ],
            "type": "heatmap"
           }
          ],
          "histogram": [
           {
            "marker": {
             "pattern": {
              "fillmode": "overlay",
              "size": 10,
              "solidity": 0.2
             }
            },
            "type": "histogram"
           }
          ],
          "histogram2d": [
           {
            "colorbar": {
             "outlinewidth": 0,
             "ticks": ""
            },
            "colorscale": [
             [
              0,
              "#0d0887"
             ],
             [
              0.1111111111111111,
              "#46039f"
             ],
             [
              0.2222222222222222,
              "#7201a8"
             ],
             [
              0.3333333333333333,
              "#9c179e"
             ],
             [
              0.4444444444444444,
              "#bd3786"
             ],
             [
              0.5555555555555556,
              "#d8576b"
             ],
             [
              0.6666666666666666,
              "#ed7953"
             ],
             [
              0.7777777777777778,
              "#fb9f3a"
             ],
             [
              0.8888888888888888,
              "#fdca26"
             ],
             [
              1,
              "#f0f921"
             ]
            ],
            "type": "histogram2d"
           }
          ],
          "histogram2dcontour": [
           {
            "colorbar": {
             "outlinewidth": 0,
             "ticks": ""
            },
            "colorscale": [
             [
              0,
              "#0d0887"
             ],
             [
              0.1111111111111111,
              "#46039f"
             ],
             [
              0.2222222222222222,
              "#7201a8"
             ],
             [
              0.3333333333333333,
              "#9c179e"
             ],
             [
              0.4444444444444444,
              "#bd3786"
             ],
             [
              0.5555555555555556,
              "#d8576b"
             ],
             [
              0.6666666666666666,
              "#ed7953"
             ],
             [
              0.7777777777777778,
              "#fb9f3a"
             ],
             [
              0.8888888888888888,
              "#fdca26"
             ],
             [
              1,
              "#f0f921"
             ]
            ],
            "type": "histogram2dcontour"
           }
          ],
          "mesh3d": [
           {
            "colorbar": {
             "outlinewidth": 0,
             "ticks": ""
            },
            "type": "mesh3d"
           }
          ],
          "parcoords": [
           {
            "line": {
             "colorbar": {
              "outlinewidth": 0,
              "ticks": ""
             }
            },
            "type": "parcoords"
           }
          ],
          "pie": [
           {
            "automargin": true,
            "type": "pie"
           }
          ],
          "scatter": [
           {
            "fillpattern": {
             "fillmode": "overlay",
             "size": 10,
             "solidity": 0.2
            },
            "type": "scatter"
           }
          ],
          "scatter3d": [
           {
            "line": {
             "colorbar": {
              "outlinewidth": 0,
              "ticks": ""
             }
            },
            "marker": {
             "colorbar": {
              "outlinewidth": 0,
              "ticks": ""
             }
            },
            "type": "scatter3d"
           }
          ],
          "scattercarpet": [
           {
            "marker": {
             "colorbar": {
              "outlinewidth": 0,
              "ticks": ""
             }
            },
            "type": "scattercarpet"
           }
          ],
          "scattergeo": [
           {
            "marker": {
             "colorbar": {
              "outlinewidth": 0,
              "ticks": ""
             }
            },
            "type": "scattergeo"
           }
          ],
          "scattergl": [
           {
            "marker": {
             "colorbar": {
              "outlinewidth": 0,
              "ticks": ""
             }
            },
            "type": "scattergl"
           }
          ],
          "scattermap": [
           {
            "marker": {
             "colorbar": {
              "outlinewidth": 0,
              "ticks": ""
             }
            },
            "type": "scattermap"
           }
          ],
          "scattermapbox": [
           {
            "marker": {
             "colorbar": {
              "outlinewidth": 0,
              "ticks": ""
             }
            },
            "type": "scattermapbox"
           }
          ],
          "scatterpolar": [
           {
            "marker": {
             "colorbar": {
              "outlinewidth": 0,
              "ticks": ""
             }
            },
            "type": "scatterpolar"
           }
          ],
          "scatterpolargl": [
           {
            "marker": {
             "colorbar": {
              "outlinewidth": 0,
              "ticks": ""
             }
            },
            "type": "scatterpolargl"
           }
          ],
          "scatterternary": [
           {
            "marker": {
             "colorbar": {
              "outlinewidth": 0,
              "ticks": ""
             }
            },
            "type": "scatterternary"
           }
          ],
          "surface": [
           {
            "colorbar": {
             "outlinewidth": 0,
             "ticks": ""
            },
            "colorscale": [
             [
              0,
              "#0d0887"
             ],
             [
              0.1111111111111111,
              "#46039f"
             ],
             [
              0.2222222222222222,
              "#7201a8"
             ],
             [
              0.3333333333333333,
              "#9c179e"
             ],
             [
              0.4444444444444444,
              "#bd3786"
             ],
             [
              0.5555555555555556,
              "#d8576b"
             ],
             [
              0.6666666666666666,
              "#ed7953"
             ],
             [
              0.7777777777777778,
              "#fb9f3a"
             ],
             [
              0.8888888888888888,
              "#fdca26"
             ],
             [
              1,
              "#f0f921"
             ]
            ],
            "type": "surface"
           }
          ],
          "table": [
           {
            "cells": {
             "fill": {
              "color": "#EBF0F8"
             },
             "line": {
              "color": "white"
             }
            },
            "header": {
             "fill": {
              "color": "#C8D4E3"
             },
             "line": {
              "color": "white"
             }
            },
            "type": "table"
           }
          ]
         },
         "layout": {
          "annotationdefaults": {
           "arrowcolor": "#2a3f5f",
           "arrowhead": 0,
           "arrowwidth": 1
          },
          "autotypenumbers": "strict",
          "coloraxis": {
           "colorbar": {
            "outlinewidth": 0,
            "ticks": ""
           }
          },
          "colorscale": {
           "diverging": [
            [
             0,
             "#8e0152"
            ],
            [
             0.1,
             "#c51b7d"
            ],
            [
             0.2,
             "#de77ae"
            ],
            [
             0.3,
             "#f1b6da"
            ],
            [
             0.4,
             "#fde0ef"
            ],
            [
             0.5,
             "#f7f7f7"
            ],
            [
             0.6,
             "#e6f5d0"
            ],
            [
             0.7,
             "#b8e186"
            ],
            [
             0.8,
             "#7fbc41"
            ],
            [
             0.9,
             "#4d9221"
            ],
            [
             1,
             "#276419"
            ]
           ],
           "sequential": [
            [
             0,
             "#0d0887"
            ],
            [
             0.1111111111111111,
             "#46039f"
            ],
            [
             0.2222222222222222,
             "#7201a8"
            ],
            [
             0.3333333333333333,
             "#9c179e"
            ],
            [
             0.4444444444444444,
             "#bd3786"
            ],
            [
             0.5555555555555556,
             "#d8576b"
            ],
            [
             0.6666666666666666,
             "#ed7953"
            ],
            [
             0.7777777777777778,
             "#fb9f3a"
            ],
            [
             0.8888888888888888,
             "#fdca26"
            ],
            [
             1,
             "#f0f921"
            ]
           ],
           "sequentialminus": [
            [
             0,
             "#0d0887"
            ],
            [
             0.1111111111111111,
             "#46039f"
            ],
            [
             0.2222222222222222,
             "#7201a8"
            ],
            [
             0.3333333333333333,
             "#9c179e"
            ],
            [
             0.4444444444444444,
             "#bd3786"
            ],
            [
             0.5555555555555556,
             "#d8576b"
            ],
            [
             0.6666666666666666,
             "#ed7953"
            ],
            [
             0.7777777777777778,
             "#fb9f3a"
            ],
            [
             0.8888888888888888,
             "#fdca26"
            ],
            [
             1,
             "#f0f921"
            ]
           ]
          },
          "colorway": [
           "#636efa",
           "#EF553B",
           "#00cc96",
           "#ab63fa",
           "#FFA15A",
           "#19d3f3",
           "#FF6692",
           "#B6E880",
           "#FF97FF",
           "#FECB52"
          ],
          "font": {
           "color": "#2a3f5f"
          },
          "geo": {
           "bgcolor": "white",
           "lakecolor": "white",
           "landcolor": "white",
           "showlakes": true,
           "showland": true,
           "subunitcolor": "#C8D4E3"
          },
          "hoverlabel": {
           "align": "left"
          },
          "hovermode": "closest",
          "mapbox": {
           "style": "light"
          },
          "paper_bgcolor": "white",
          "plot_bgcolor": "white",
          "polar": {
           "angularaxis": {
            "gridcolor": "#EBF0F8",
            "linecolor": "#EBF0F8",
            "ticks": ""
           },
           "bgcolor": "white",
           "radialaxis": {
            "gridcolor": "#EBF0F8",
            "linecolor": "#EBF0F8",
            "ticks": ""
           }
          },
          "scene": {
           "xaxis": {
            "backgroundcolor": "white",
            "gridcolor": "#DFE8F3",
            "gridwidth": 2,
            "linecolor": "#EBF0F8",
            "showbackground": true,
            "ticks": "",
            "zerolinecolor": "#EBF0F8"
           },
           "yaxis": {
            "backgroundcolor": "white",
            "gridcolor": "#DFE8F3",
            "gridwidth": 2,
            "linecolor": "#EBF0F8",
            "showbackground": true,
            "ticks": "",
            "zerolinecolor": "#EBF0F8"
           },
           "zaxis": {
            "backgroundcolor": "white",
            "gridcolor": "#DFE8F3",
            "gridwidth": 2,
            "linecolor": "#EBF0F8",
            "showbackground": true,
            "ticks": "",
            "zerolinecolor": "#EBF0F8"
           }
          },
          "shapedefaults": {
           "line": {
            "color": "#2a3f5f"
           }
          },
          "ternary": {
           "aaxis": {
            "gridcolor": "#DFE8F3",
            "linecolor": "#A2B1C6",
            "ticks": ""
           },
           "baxis": {
            "gridcolor": "#DFE8F3",
            "linecolor": "#A2B1C6",
            "ticks": ""
           },
           "bgcolor": "white",
           "caxis": {
            "gridcolor": "#DFE8F3",
            "linecolor": "#A2B1C6",
            "ticks": ""
           }
          },
          "title": {
           "x": 0.05
          },
          "xaxis": {
           "automargin": true,
           "gridcolor": "#EBF0F8",
           "linecolor": "#EBF0F8",
           "ticks": "",
           "title": {
            "standoff": 15
           },
           "zerolinecolor": "#EBF0F8",
           "zerolinewidth": 2
          },
          "yaxis": {
           "automargin": true,
           "gridcolor": "#EBF0F8",
           "linecolor": "#EBF0F8",
           "ticks": "",
           "title": {
            "standoff": 15
           },
           "zerolinecolor": "#EBF0F8",
           "zerolinewidth": 2
          }
         }
        },
        "title": {
         "text": "Ad Spend vs Voter Turnout by Parliamentary Constituency"
        },
        "width": 800,
        "xaxis": {
         "anchor": "y",
         "domain": [
          0,
          1
         ],
         "title": {
          "text": "Ad Spend (INR)"
         }
        },
        "yaxis": {
         "anchor": "x",
         "domain": [
          0,
          1
         ],
         "title": {
          "text": "Voter Turnout (%)"
         }
        }
       }
      }
     },
     "metadata": {},
     "output_type": "display_data"
    }
   ],
   "source": [
    "# Relationship between ad spend and voter turnout by parliamentary constituency\n",
    "merged_constituency_data = results.merge(locations, left_on='State', right_on='Location name', how='left')\n",
    "fig = px.scatter(merged_constituency_data, x='Amount spent (INR)', y='Polled (%)',\n",
    "                 color='State', hover_name='Location name',\n",
    "                 title='Ad Spend vs Voter Turnout by Parliamentary Constituency',\n",
    "                 opacity=0.8,\n",
    "                 labels={'Amount spent (INR)': 'Ad Spend (INR)', 'Polled (%)': 'Voter Turnout (%)'})\n",
    "fig.update_layout(width=800, height=600)\n",
    "fig.show()\n"
   ]
  },
  {
   "cell_type": "code",
   "execution_count": 55,
   "id": "0c315877",
   "metadata": {},
   "outputs": [
    {
     "data": {
      "application/vnd.plotly.v1+json": {
       "config": {
        "plotlyServerURL": "https://plot.ly"
       },
       "data": [
        {
         "bingroup": "x",
         "hovertemplate": "Ad Spend (INR)=%{x}<br>count=%{y}<extra></extra>",
         "legendgroup": "",
         "marker": {
          "color": "#636efa",
          "line": {
           "color": "black",
           "width": 1
          },
          "pattern": {
           "shape": ""
          }
         },
         "name": "",
         "nbinsx": 30,
         "orientation": "v",
         "showlegend": false,
         "type": "histogram",
         "x": {
          "bdata": "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",
          "dtype": "f8"
         },
         "xaxis": "x",
         "yaxis": "y"
        },
        {
         "hovertemplate": "Ad Spend (INR)=%{x}<extra></extra>",
         "legendgroup": "",
         "marker": {
          "color": "#636efa",
          "line": {
           "color": "black",
           "width": 1
          }
         },
         "name": "",
         "notched": true,
         "showlegend": false,
         "type": "box",
         "x": {
          "bdata": "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",
          "dtype": "f8"
         },
         "xaxis": "x2",
         "yaxis": "y2"
        }
       ],
       "layout": {
        "bargap": 0.1,
        "barmode": "relative",
        "height": 600,
        "legend": {
         "tracegroupgap": 0
        },
        "template": {
         "data": {
          "bar": [
           {
            "error_x": {
             "color": "#2a3f5f"
            },
            "error_y": {
             "color": "#2a3f5f"
            },
            "marker": {
             "line": {
              "color": "white",
              "width": 0.5
             },
             "pattern": {
              "fillmode": "overlay",
              "size": 10,
              "solidity": 0.2
             }
            },
            "type": "bar"
           }
          ],
          "barpolar": [
           {
            "marker": {
             "line": {
              "color": "white",
              "width": 0.5
             },
             "pattern": {
              "fillmode": "overlay",
              "size": 10,
              "solidity": 0.2
             }
            },
            "type": "barpolar"
           }
          ],
          "carpet": [
           {
            "aaxis": {
             "endlinecolor": "#2a3f5f",
             "gridcolor": "#C8D4E3",
             "linecolor": "#C8D4E3",
             "minorgridcolor": "#C8D4E3",
             "startlinecolor": "#2a3f5f"
            },
            "baxis": {
             "endlinecolor": "#2a3f5f",
             "gridcolor": "#C8D4E3",
             "linecolor": "#C8D4E3",
             "minorgridcolor": "#C8D4E3",
             "startlinecolor": "#2a3f5f"
            },
            "type": "carpet"
           }
          ],
          "choropleth": [
           {
            "colorbar": {
             "outlinewidth": 0,
             "ticks": ""
            },
            "type": "choropleth"
           }
          ],
          "contour": [
           {
            "colorbar": {
             "outlinewidth": 0,
             "ticks": ""
            },
            "colorscale": [
             [
              0,
              "#0d0887"
             ],
             [
              0.1111111111111111,
              "#46039f"
             ],
             [
              0.2222222222222222,
              "#7201a8"
             ],
             [
              0.3333333333333333,
              "#9c179e"
             ],
             [
              0.4444444444444444,
              "#bd3786"
             ],
             [
              0.5555555555555556,
              "#d8576b"
             ],
             [
              0.6666666666666666,
              "#ed7953"
             ],
             [
              0.7777777777777778,
              "#fb9f3a"
             ],
             [
              0.8888888888888888,
              "#fdca26"
             ],
             [
              1,
              "#f0f921"
             ]
            ],
            "type": "contour"
           }
          ],
          "contourcarpet": [
           {
            "colorbar": {
             "outlinewidth": 0,
             "ticks": ""
            },
            "type": "contourcarpet"
           }
          ],
          "heatmap": [
           {
            "colorbar": {
             "outlinewidth": 0,
             "ticks": ""
            },
            "colorscale": [
             [
              0,
              "#0d0887"
             ],
             [
              0.1111111111111111,
              "#46039f"
             ],
             [
              0.2222222222222222,
              "#7201a8"
             ],
             [
              0.3333333333333333,
              "#9c179e"
             ],
             [
              0.4444444444444444,
              "#bd3786"
             ],
             [
              0.5555555555555556,
              "#d8576b"
             ],
             [
              0.6666666666666666,
              "#ed7953"
             ],
             [
              0.7777777777777778,
              "#fb9f3a"
             ],
             [
              0.8888888888888888,
              "#fdca26"
             ],
             [
              1,
              "#f0f921"
             ]
            ],
            "type": "heatmap"
           }
          ],
          "histogram": [
           {
            "marker": {
             "pattern": {
              "fillmode": "overlay",
              "size": 10,
              "solidity": 0.2
             }
            },
            "type": "histogram"
           }
          ],
          "histogram2d": [
           {
            "colorbar": {
             "outlinewidth": 0,
             "ticks": ""
            },
            "colorscale": [
             [
              0,
              "#0d0887"
             ],
             [
              0.1111111111111111,
              "#46039f"
             ],
             [
              0.2222222222222222,
              "#7201a8"
             ],
             [
              0.3333333333333333,
              "#9c179e"
             ],
             [
              0.4444444444444444,
              "#bd3786"
             ],
             [
              0.5555555555555556,
              "#d8576b"
             ],
             [
              0.6666666666666666,
              "#ed7953"
             ],
             [
              0.7777777777777778,
              "#fb9f3a"
             ],
             [
              0.8888888888888888,
              "#fdca26"
             ],
             [
              1,
              "#f0f921"
             ]
            ],
            "type": "histogram2d"
           }
          ],
          "histogram2dcontour": [
           {
            "colorbar": {
             "outlinewidth": 0,
             "ticks": ""
            },
            "colorscale": [
             [
              0,
              "#0d0887"
             ],
             [
              0.1111111111111111,
              "#46039f"
             ],
             [
              0.2222222222222222,
              "#7201a8"
             ],
             [
              0.3333333333333333,
              "#9c179e"
             ],
             [
              0.4444444444444444,
              "#bd3786"
             ],
             [
              0.5555555555555556,
              "#d8576b"
             ],
             [
              0.6666666666666666,
              "#ed7953"
             ],
             [
              0.7777777777777778,
              "#fb9f3a"
             ],
             [
              0.8888888888888888,
              "#fdca26"
             ],
             [
              1,
              "#f0f921"
             ]
            ],
            "type": "histogram2dcontour"
           }
          ],
          "mesh3d": [
           {
            "colorbar": {
             "outlinewidth": 0,
             "ticks": ""
            },
            "type": "mesh3d"
           }
          ],
          "parcoords": [
           {
            "line": {
             "colorbar": {
              "outlinewidth": 0,
              "ticks": ""
             }
            },
            "type": "parcoords"
           }
          ],
          "pie": [
           {
            "automargin": true,
            "type": "pie"
           }
          ],
          "scatter": [
           {
            "fillpattern": {
             "fillmode": "overlay",
             "size": 10,
             "solidity": 0.2
            },
            "type": "scatter"
           }
          ],
          "scatter3d": [
           {
            "line": {
             "colorbar": {
              "outlinewidth": 0,
              "ticks": ""
             }
            },
            "marker": {
             "colorbar": {
              "outlinewidth": 0,
              "ticks": ""
             }
            },
            "type": "scatter3d"
           }
          ],
          "scattercarpet": [
           {
            "marker": {
             "colorbar": {
              "outlinewidth": 0,
              "ticks": ""
             }
            },
            "type": "scattercarpet"
           }
          ],
          "scattergeo": [
           {
            "marker": {
             "colorbar": {
              "outlinewidth": 0,
              "ticks": ""
             }
            },
            "type": "scattergeo"
           }
          ],
          "scattergl": [
           {
            "marker": {
             "colorbar": {
              "outlinewidth": 0,
              "ticks": ""
             }
            },
            "type": "scattergl"
           }
          ],
          "scattermap": [
           {
            "marker": {
             "colorbar": {
              "outlinewidth": 0,
              "ticks": ""
             }
            },
            "type": "scattermap"
           }
          ],
          "scattermapbox": [
           {
            "marker": {
             "colorbar": {
              "outlinewidth": 0,
              "ticks": ""
             }
            },
            "type": "scattermapbox"
           }
          ],
          "scatterpolar": [
           {
            "marker": {
             "colorbar": {
              "outlinewidth": 0,
              "ticks": ""
             }
            },
            "type": "scatterpolar"
           }
          ],
          "scatterpolargl": [
           {
            "marker": {
             "colorbar": {
              "outlinewidth": 0,
              "ticks": ""
             }
            },
            "type": "scatterpolargl"
           }
          ],
          "scatterternary": [
           {
            "marker": {
             "colorbar": {
              "outlinewidth": 0,
              "ticks": ""
             }
            },
            "type": "scatterternary"
           }
          ],
          "surface": [
           {
            "colorbar": {
             "outlinewidth": 0,
             "ticks": ""
            },
            "colorscale": [
             [
              0,
              "#0d0887"
             ],
             [
              0.1111111111111111,
              "#46039f"
             ],
             [
              0.2222222222222222,
              "#7201a8"
             ],
             [
              0.3333333333333333,
              "#9c179e"
             ],
             [
              0.4444444444444444,
              "#bd3786"
             ],
             [
              0.5555555555555556,
              "#d8576b"
             ],
             [
              0.6666666666666666,
              "#ed7953"
             ],
             [
              0.7777777777777778,
              "#fb9f3a"
             ],
             [
              0.8888888888888888,
              "#fdca26"
             ],
             [
              1,
              "#f0f921"
             ]
            ],
            "type": "surface"
           }
          ],
          "table": [
           {
            "cells": {
             "fill": {
              "color": "#EBF0F8"
             },
             "line": {
              "color": "white"
             }
            },
            "header": {
             "fill": {
              "color": "#C8D4E3"
             },
             "line": {
              "color": "white"
             }
            },
            "type": "table"
           }
          ]
         },
         "layout": {
          "annotationdefaults": {
           "arrowcolor": "#2a3f5f",
           "arrowhead": 0,
           "arrowwidth": 1
          },
          "autotypenumbers": "strict",
          "coloraxis": {
           "colorbar": {
            "outlinewidth": 0,
            "ticks": ""
           }
          },
          "colorscale": {
           "diverging": [
            [
             0,
             "#8e0152"
            ],
            [
             0.1,
             "#c51b7d"
            ],
            [
             0.2,
             "#de77ae"
            ],
            [
             0.3,
             "#f1b6da"
            ],
            [
             0.4,
             "#fde0ef"
            ],
            [
             0.5,
             "#f7f7f7"
            ],
            [
             0.6,
             "#e6f5d0"
            ],
            [
             0.7,
             "#b8e186"
            ],
            [
             0.8,
             "#7fbc41"
            ],
            [
             0.9,
             "#4d9221"
            ],
            [
             1,
             "#276419"
            ]
           ],
           "sequential": [
            [
             0,
             "#0d0887"
            ],
            [
             0.1111111111111111,
             "#46039f"
            ],
            [
             0.2222222222222222,
             "#7201a8"
            ],
            [
             0.3333333333333333,
             "#9c179e"
            ],
            [
             0.4444444444444444,
             "#bd3786"
            ],
            [
             0.5555555555555556,
             "#d8576b"
            ],
            [
             0.6666666666666666,
             "#ed7953"
            ],
            [
             0.7777777777777778,
             "#fb9f3a"
            ],
            [
             0.8888888888888888,
             "#fdca26"
            ],
            [
             1,
             "#f0f921"
            ]
           ],
           "sequentialminus": [
            [
             0,
             "#0d0887"
            ],
            [
             0.1111111111111111,
             "#46039f"
            ],
            [
             0.2222222222222222,
             "#7201a8"
            ],
            [
             0.3333333333333333,
             "#9c179e"
            ],
            [
             0.4444444444444444,
             "#bd3786"
            ],
            [
             0.5555555555555556,
             "#d8576b"
            ],
            [
             0.6666666666666666,
             "#ed7953"
            ],
            [
             0.7777777777777778,
             "#fb9f3a"
            ],
            [
             0.8888888888888888,
             "#fdca26"
            ],
            [
             1,
             "#f0f921"
            ]
           ]
          },
          "colorway": [
           "#636efa",
           "#EF553B",
           "#00cc96",
           "#ab63fa",
           "#FFA15A",
           "#19d3f3",
           "#FF6692",
           "#B6E880",
           "#FF97FF",
           "#FECB52"
          ],
          "font": {
           "color": "#2a3f5f"
          },
          "geo": {
           "bgcolor": "white",
           "lakecolor": "white",
           "landcolor": "white",
           "showlakes": true,
           "showland": true,
           "subunitcolor": "#C8D4E3"
          },
          "hoverlabel": {
           "align": "left"
          },
          "hovermode": "closest",
          "mapbox": {
           "style": "light"
          },
          "paper_bgcolor": "white",
          "plot_bgcolor": "white",
          "polar": {
           "angularaxis": {
            "gridcolor": "#EBF0F8",
            "linecolor": "#EBF0F8",
            "ticks": ""
           },
           "bgcolor": "white",
           "radialaxis": {
            "gridcolor": "#EBF0F8",
            "linecolor": "#EBF0F8",
            "ticks": ""
           }
          },
          "scene": {
           "xaxis": {
            "backgroundcolor": "white",
            "gridcolor": "#DFE8F3",
            "gridwidth": 2,
            "linecolor": "#EBF0F8",
            "showbackground": true,
            "ticks": "",
            "zerolinecolor": "#EBF0F8"
           },
           "yaxis": {
            "backgroundcolor": "white",
            "gridcolor": "#DFE8F3",
            "gridwidth": 2,
            "linecolor": "#EBF0F8",
            "showbackground": true,
            "ticks": "",
            "zerolinecolor": "#EBF0F8"
           },
           "zaxis": {
            "backgroundcolor": "white",
            "gridcolor": "#DFE8F3",
            "gridwidth": 2,
            "linecolor": "#EBF0F8",
            "showbackground": true,
            "ticks": "",
            "zerolinecolor": "#EBF0F8"
           }
          },
          "shapedefaults": {
           "line": {
            "color": "#2a3f5f"
           }
          },
          "ternary": {
           "aaxis": {
            "gridcolor": "#DFE8F3",
            "linecolor": "#A2B1C6",
            "ticks": ""
           },
           "baxis": {
            "gridcolor": "#DFE8F3",
            "linecolor": "#A2B1C6",
            "ticks": ""
           },
           "bgcolor": "white",
           "caxis": {
            "gridcolor": "#DFE8F3",
            "linecolor": "#A2B1C6",
            "ticks": ""
           }
          },
          "title": {
           "x": 0.05
          },
          "xaxis": {
           "automargin": true,
           "gridcolor": "#EBF0F8",
           "linecolor": "#EBF0F8",
           "ticks": "",
           "title": {
            "standoff": 15
           },
           "zerolinecolor": "#EBF0F8",
           "zerolinewidth": 2
          },
          "yaxis": {
           "automargin": true,
           "gridcolor": "#EBF0F8",
           "linecolor": "#EBF0F8",
           "ticks": "",
           "title": {
            "standoff": 15
           },
           "zerolinecolor": "#EBF0F8",
           "zerolinewidth": 2
          }
         }
        },
        "title": {
         "text": "Distribution of Ad Spending"
        },
        "width": 800,
        "xaxis": {
         "anchor": "y",
         "domain": [
          0,
          1
         ],
         "title": {
          "text": "Ad Spend (INR)"
         }
        },
        "xaxis2": {
         "anchor": "y2",
         "domain": [
          0,
          1
         ],
         "matches": "x",
         "showgrid": true,
         "showticklabels": false
        },
        "yaxis": {
         "anchor": "x",
         "domain": [
          0,
          0.8316
         ],
         "title": {
          "text": "count"
         }
        },
        "yaxis2": {
         "anchor": "x2",
         "domain": [
          0.8416,
          1
         ],
         "matches": "y2",
         "showgrid": false,
         "showline": false,
         "showticklabels": false,
         "ticks": ""
        }
       }
      }
     },
     "metadata": {},
     "output_type": "display_data"
    }
   ],
   "source": [
    "# Distribution of ad spending \n",
    "fig = px.histogram(merged_data,  x='Amount spent (INR)', nbins=30,marginal='box',\n",
    "                 title='Distribution of Ad Spending',\n",
    "                 labels={'Amount spent (INR)': 'Ad Spend (INR)'})\n",
    "fig.update_layout(bargap=0.1, width=800, height=600)\n",
    "fig.update_traces(marker=dict(line=dict(color='black', width=1)))\n",
    "fig.show()"
   ]
  },
  {
   "cell_type": "code",
   "execution_count": 61,
   "id": "e8ef7df2",
   "metadata": {},
   "outputs": [
    {
     "data": {
      "application/vnd.plotly.v1+json": {
       "config": {
        "plotlyServerURL": "https://plot.ly"
       },
       "data": [
        {
         "marker": {
          "color": "indianred"
         },
         "name": "Ad Spend (INR)",
         "type": "bar",
         "x": {
          "bdata": "AAAAAAAA8D8AAAAAAAAAQAAAAAAAAAhAAAAAAAAAEEAAAAAAAAAUQAAAAAAAABhA",
          "dtype": "f8"
         },
         "y": {
          "bdata": "AABwHN6y9EEAAMBEerTtQQAAYLCNm/FBAACQLJTO/EEAAODLujDwQQAA4Dqc2uxB",
          "dtype": "f8"
         },
         "yaxis": "y"
        },
        {
         "marker": {
          "color": "lightsalmon"
         },
         "name": "Average Voter Turnout (%)",
         "type": "scatter",
         "x": {
          "bdata": "AAAAAAAA8D8AAAAAAAAAQAAAAAAAAAhAAAAAAAAAEEAAAAAAAAAUQAAAAAAAABhA",
          "dtype": "f8"
         },
         "y": {
          "bdata": "S/CBy+/MUEADJPdcWPBQQLYZBryHf1BA7a7/WjKLUUD/snvysFBPQH/iDZAW6k9A",
          "dtype": "f8"
         },
         "yaxis": "y2"
        }
       ],
       "layout": {
        "height": 600,
        "legend": {
         "orientation": "h",
         "x": 0.1,
         "y": 1.1
        },
        "template": {
         "data": {
          "bar": [
           {
            "error_x": {
             "color": "#2a3f5f"
            },
            "error_y": {
             "color": "#2a3f5f"
            },
            "marker": {
             "line": {
              "color": "white",
              "width": 0.5
             },
             "pattern": {
              "fillmode": "overlay",
              "size": 10,
              "solidity": 0.2
             }
            },
            "type": "bar"
           }
          ],
          "barpolar": [
           {
            "marker": {
             "line": {
              "color": "white",
              "width": 0.5
             },
             "pattern": {
              "fillmode": "overlay",
              "size": 10,
              "solidity": 0.2
             }
            },
            "type": "barpolar"
           }
          ],
          "carpet": [
           {
            "aaxis": {
             "endlinecolor": "#2a3f5f",
             "gridcolor": "#C8D4E3",
             "linecolor": "#C8D4E3",
             "minorgridcolor": "#C8D4E3",
             "startlinecolor": "#2a3f5f"
            },
            "baxis": {
             "endlinecolor": "#2a3f5f",
             "gridcolor": "#C8D4E3",
             "linecolor": "#C8D4E3",
             "minorgridcolor": "#C8D4E3",
             "startlinecolor": "#2a3f5f"
            },
            "type": "carpet"
           }
          ],
          "choropleth": [
           {
            "colorbar": {
             "outlinewidth": 0,
             "ticks": ""
            },
            "type": "choropleth"
           }
          ],
          "contour": [
           {
            "colorbar": {
             "outlinewidth": 0,
             "ticks": ""
            },
            "colorscale": [
             [
              0,
              "#0d0887"
             ],
             [
              0.1111111111111111,
              "#46039f"
             ],
             [
              0.2222222222222222,
              "#7201a8"
             ],
             [
              0.3333333333333333,
              "#9c179e"
             ],
             [
              0.4444444444444444,
              "#bd3786"
             ],
             [
              0.5555555555555556,
              "#d8576b"
             ],
             [
              0.6666666666666666,
              "#ed7953"
             ],
             [
              0.7777777777777778,
              "#fb9f3a"
             ],
             [
              0.8888888888888888,
              "#fdca26"
             ],
             [
              1,
              "#f0f921"
             ]
            ],
            "type": "contour"
           }
          ],
          "contourcarpet": [
           {
            "colorbar": {
             "outlinewidth": 0,
             "ticks": ""
            },
            "type": "contourcarpet"
           }
          ],
          "heatmap": [
           {
            "colorbar": {
             "outlinewidth": 0,
             "ticks": ""
            },
            "colorscale": [
             [
              0,
              "#0d0887"
             ],
             [
              0.1111111111111111,
              "#46039f"
             ],
             [
              0.2222222222222222,
              "#7201a8"
             ],
             [
              0.3333333333333333,
              "#9c179e"
             ],
             [
              0.4444444444444444,
              "#bd3786"
             ],
             [
              0.5555555555555556,
              "#d8576b"
             ],
             [
              0.6666666666666666,
              "#ed7953"
             ],
             [
              0.7777777777777778,
              "#fb9f3a"
             ],
             [
              0.8888888888888888,
              "#fdca26"
             ],
             [
              1,
              "#f0f921"
             ]
            ],
            "type": "heatmap"
           }
          ],
          "histogram": [
           {
            "marker": {
             "pattern": {
              "fillmode": "overlay",
              "size": 10,
              "solidity": 0.2
             }
            },
            "type": "histogram"
           }
          ],
          "histogram2d": [
           {
            "colorbar": {
             "outlinewidth": 0,
             "ticks": ""
            },
            "colorscale": [
             [
              0,
              "#0d0887"
             ],
             [
              0.1111111111111111,
              "#46039f"
             ],
             [
              0.2222222222222222,
              "#7201a8"
             ],
             [
              0.3333333333333333,
              "#9c179e"
             ],
             [
              0.4444444444444444,
              "#bd3786"
             ],
             [
              0.5555555555555556,
              "#d8576b"
             ],
             [
              0.6666666666666666,
              "#ed7953"
             ],
             [
              0.7777777777777778,
              "#fb9f3a"
             ],
             [
              0.8888888888888888,
              "#fdca26"
             ],
             [
              1,
              "#f0f921"
             ]
            ],
            "type": "histogram2d"
           }
          ],
          "histogram2dcontour": [
           {
            "colorbar": {
             "outlinewidth": 0,
             "ticks": ""
            },
            "colorscale": [
             [
              0,
              "#0d0887"
             ],
             [
              0.1111111111111111,
              "#46039f"
             ],
             [
              0.2222222222222222,
              "#7201a8"
             ],
             [
              0.3333333333333333,
              "#9c179e"
             ],
             [
              0.4444444444444444,
              "#bd3786"
             ],
             [
              0.5555555555555556,
              "#d8576b"
             ],
             [
              0.6666666666666666,
              "#ed7953"
             ],
             [
              0.7777777777777778,
              "#fb9f3a"
             ],
             [
              0.8888888888888888,
              "#fdca26"
             ],
             [
              1,
              "#f0f921"
             ]
            ],
            "type": "histogram2dcontour"
           }
          ],
          "mesh3d": [
           {
            "colorbar": {
             "outlinewidth": 0,
             "ticks": ""
            },
            "type": "mesh3d"
           }
          ],
          "parcoords": [
           {
            "line": {
             "colorbar": {
              "outlinewidth": 0,
              "ticks": ""
             }
            },
            "type": "parcoords"
           }
          ],
          "pie": [
           {
            "automargin": true,
            "type": "pie"
           }
          ],
          "scatter": [
           {
            "fillpattern": {
             "fillmode": "overlay",
             "size": 10,
             "solidity": 0.2
            },
            "type": "scatter"
           }
          ],
          "scatter3d": [
           {
            "line": {
             "colorbar": {
              "outlinewidth": 0,
              "ticks": ""
             }
            },
            "marker": {
             "colorbar": {
              "outlinewidth": 0,
              "ticks": ""
             }
            },
            "type": "scatter3d"
           }
          ],
          "scattercarpet": [
           {
            "marker": {
             "colorbar": {
              "outlinewidth": 0,
              "ticks": ""
             }
            },
            "type": "scattercarpet"
           }
          ],
          "scattergeo": [
           {
            "marker": {
             "colorbar": {
              "outlinewidth": 0,
              "ticks": ""
             }
            },
            "type": "scattergeo"
           }
          ],
          "scattergl": [
           {
            "marker": {
             "colorbar": {
              "outlinewidth": 0,
              "ticks": ""
             }
            },
            "type": "scattergl"
           }
          ],
          "scattermap": [
           {
            "marker": {
             "colorbar": {
              "outlinewidth": 0,
              "ticks": ""
             }
            },
            "type": "scattermap"
           }
          ],
          "scattermapbox": [
           {
            "marker": {
             "colorbar": {
              "outlinewidth": 0,
              "ticks": ""
             }
            },
            "type": "scattermapbox"
           }
          ],
          "scatterpolar": [
           {
            "marker": {
             "colorbar": {
              "outlinewidth": 0,
              "ticks": ""
             }
            },
            "type": "scatterpolar"
           }
          ],
          "scatterpolargl": [
           {
            "marker": {
             "colorbar": {
              "outlinewidth": 0,
              "ticks": ""
             }
            },
            "type": "scatterpolargl"
           }
          ],
          "scatterternary": [
           {
            "marker": {
             "colorbar": {
              "outlinewidth": 0,
              "ticks": ""
             }
            },
            "type": "scatterternary"
           }
          ],
          "surface": [
           {
            "colorbar": {
             "outlinewidth": 0,
             "ticks": ""
            },
            "colorscale": [
             [
              0,
              "#0d0887"
             ],
             [
              0.1111111111111111,
              "#46039f"
             ],
             [
              0.2222222222222222,
              "#7201a8"
             ],
             [
              0.3333333333333333,
              "#9c179e"
             ],
             [
              0.4444444444444444,
              "#bd3786"
             ],
             [
              0.5555555555555556,
              "#d8576b"
             ],
             [
              0.6666666666666666,
              "#ed7953"
             ],
             [
              0.7777777777777778,
              "#fb9f3a"
             ],
             [
              0.8888888888888888,
              "#fdca26"
             ],
             [
              1,
              "#f0f921"
             ]
            ],
            "type": "surface"
           }
          ],
          "table": [
           {
            "cells": {
             "fill": {
              "color": "#EBF0F8"
             },
             "line": {
              "color": "white"
             }
            },
            "header": {
             "fill": {
              "color": "#C8D4E3"
             },
             "line": {
              "color": "white"
             }
            },
            "type": "table"
           }
          ]
         },
         "layout": {
          "annotationdefaults": {
           "arrowcolor": "#2a3f5f",
           "arrowhead": 0,
           "arrowwidth": 1
          },
          "autotypenumbers": "strict",
          "coloraxis": {
           "colorbar": {
            "outlinewidth": 0,
            "ticks": ""
           }
          },
          "colorscale": {
           "diverging": [
            [
             0,
             "#8e0152"
            ],
            [
             0.1,
             "#c51b7d"
            ],
            [
             0.2,
             "#de77ae"
            ],
            [
             0.3,
             "#f1b6da"
            ],
            [
             0.4,
             "#fde0ef"
            ],
            [
             0.5,
             "#f7f7f7"
            ],
            [
             0.6,
             "#e6f5d0"
            ],
            [
             0.7,
             "#b8e186"
            ],
            [
             0.8,
             "#7fbc41"
            ],
            [
             0.9,
             "#4d9221"
            ],
            [
             1,
             "#276419"
            ]
           ],
           "sequential": [
            [
             0,
             "#0d0887"
            ],
            [
             0.1111111111111111,
             "#46039f"
            ],
            [
             0.2222222222222222,
             "#7201a8"
            ],
            [
             0.3333333333333333,
             "#9c179e"
            ],
            [
             0.4444444444444444,
             "#bd3786"
            ],
            [
             0.5555555555555556,
             "#d8576b"
            ],
            [
             0.6666666666666666,
             "#ed7953"
            ],
            [
             0.7777777777777778,
             "#fb9f3a"
            ],
            [
             0.8888888888888888,
             "#fdca26"
            ],
            [
             1,
             "#f0f921"
            ]
           ],
           "sequentialminus": [
            [
             0,
             "#0d0887"
            ],
            [
             0.1111111111111111,
             "#46039f"
            ],
            [
             0.2222222222222222,
             "#7201a8"
            ],
            [
             0.3333333333333333,
             "#9c179e"
            ],
            [
             0.4444444444444444,
             "#bd3786"
            ],
            [
             0.5555555555555556,
             "#d8576b"
            ],
            [
             0.6666666666666666,
             "#ed7953"
            ],
            [
             0.7777777777777778,
             "#fb9f3a"
            ],
            [
             0.8888888888888888,
             "#fdca26"
            ],
            [
             1,
             "#f0f921"
            ]
           ]
          },
          "colorway": [
           "#636efa",
           "#EF553B",
           "#00cc96",
           "#ab63fa",
           "#FFA15A",
           "#19d3f3",
           "#FF6692",
           "#B6E880",
           "#FF97FF",
           "#FECB52"
          ],
          "font": {
           "color": "#2a3f5f"
          },
          "geo": {
           "bgcolor": "white",
           "lakecolor": "white",
           "landcolor": "white",
           "showlakes": true,
           "showland": true,
           "subunitcolor": "#C8D4E3"
          },
          "hoverlabel": {
           "align": "left"
          },
          "hovermode": "closest",
          "mapbox": {
           "style": "light"
          },
          "paper_bgcolor": "white",
          "plot_bgcolor": "white",
          "polar": {
           "angularaxis": {
            "gridcolor": "#EBF0F8",
            "linecolor": "#EBF0F8",
            "ticks": ""
           },
           "bgcolor": "white",
           "radialaxis": {
            "gridcolor": "#EBF0F8",
            "linecolor": "#EBF0F8",
            "ticks": ""
           }
          },
          "scene": {
           "xaxis": {
            "backgroundcolor": "white",
            "gridcolor": "#DFE8F3",
            "gridwidth": 2,
            "linecolor": "#EBF0F8",
            "showbackground": true,
            "ticks": "",
            "zerolinecolor": "#EBF0F8"
           },
           "yaxis": {
            "backgroundcolor": "white",
            "gridcolor": "#DFE8F3",
            "gridwidth": 2,
            "linecolor": "#EBF0F8",
            "showbackground": true,
            "ticks": "",
            "zerolinecolor": "#EBF0F8"
           },
           "zaxis": {
            "backgroundcolor": "white",
            "gridcolor": "#DFE8F3",
            "gridwidth": 2,
            "linecolor": "#EBF0F8",
            "showbackground": true,
            "ticks": "",
            "zerolinecolor": "#EBF0F8"
           }
          },
          "shapedefaults": {
           "line": {
            "color": "#2a3f5f"
           }
          },
          "ternary": {
           "aaxis": {
            "gridcolor": "#DFE8F3",
            "linecolor": "#A2B1C6",
            "ticks": ""
           },
           "baxis": {
            "gridcolor": "#DFE8F3",
            "linecolor": "#A2B1C6",
            "ticks": ""
           },
           "bgcolor": "white",
           "caxis": {
            "gridcolor": "#DFE8F3",
            "linecolor": "#A2B1C6",
            "ticks": ""
           }
          },
          "title": {
           "x": 0.05
          },
          "xaxis": {
           "automargin": true,
           "gridcolor": "#EBF0F8",
           "linecolor": "#EBF0F8",
           "ticks": "",
           "title": {
            "standoff": 15
           },
           "zerolinecolor": "#EBF0F8",
           "zerolinewidth": 2
          },
          "yaxis": {
           "automargin": true,
           "gridcolor": "#EBF0F8",
           "linecolor": "#EBF0F8",
           "ticks": "",
           "title": {
            "standoff": 15
           },
           "zerolinecolor": "#EBF0F8",
           "zerolinewidth": 2
          }
         }
        },
        "title": {
         "text": "Ad Spend and Voter Turnout by Election Phase"
        },
        "width": 800,
        "xaxis": {
         "title": {
          "text": "Election Phase"
         }
        },
        "yaxis": {
         "tickfont": {
          "color": "lightsalmon"
         },
         "title": {
          "font": {
           "color": "indianred"
          },
          "text": "Ad Spend (INR)"
         }
        },
        "yaxis2": {
         "overlaying": "y",
         "side": "right",
         "tickfont": {
          "color": "lightsalmon"
         },
         "title": {
          "font": {
           "color": "indianred"
          },
          "text": "Average Voter Turnout (%)"
         }
        }
       }
      }
     },
     "metadata": {},
     "output_type": "display_data"
    }
   ],
   "source": [
    "# Analyzing ad spend and voter turn out by election phase\n",
    "import plotly.graph_objects as go\n",
    "\n",
    "phase_analysis = merged_data.groupby('Phase').agg({'Amount spent (INR)': 'sum', 'Polled (%)': 'mean'}).reset_index()\n",
    "\n",
    "fig = go.Figure()\n",
    "fig.add_trace(go.Bar(\n",
    "    x=phase_analysis['Phase'],\n",
    "    y=phase_analysis['Amount spent (INR)'],\n",
    "    name='Ad Spend (INR)',\n",
    "    marker_color='indianred',\n",
    "    yaxis='y1'\n",
    "))\n",
    "fig.add_trace(go.Scatter(\n",
    "    x=phase_analysis['Phase'],\n",
    "    y=phase_analysis['Polled (%)'],\n",
    "    name='Average Voter Turnout (%)',\n",
    "    marker_color='lightsalmon',\n",
    "    yaxis='y2'\n",
    "))\n",
    "fig.update_layout(\n",
    "    title='Ad Spend and Voter Turnout by Election Phase',\n",
    "    xaxis=dict(title='Election Phase'),\n",
    "    yaxis=dict(\n",
    "        title={'text': 'Ad Spend (INR)', 'font': {'color': 'indianred'}},\n",
    "        tickfont=dict(color='lightsalmon')\n",
    "    ),\n",
    "    yaxis2=dict(\n",
    "        title={'text': 'Average Voter Turnout (%)', 'font': {'color': 'indianred'}},\n",
    "        tickfont=dict(color='lightsalmon'),\n",
    "        overlaying='y',\n",
    "        side='right'\n",
    "    ),\n",
    "    legend=dict(x=0.1, y=1.1, orientation='h'),\n",
    "    width=800,\n",
    "    height=600\n",
    ")\n",
    "fig.show()\n"
   ]
  }
 ],
 "metadata": {
  "kernelspec": {
   "display_name": "Python 3",
   "language": "python",
   "name": "python3"
  },
  "language_info": {
   "codemirror_mode": {
    "name": "ipython",
    "version": 3
   },
   "file_extension": ".py",
   "mimetype": "text/x-python",
   "name": "python",
   "nbconvert_exporter": "python",
   "pygments_lexer": "ipython3",
   "version": "3.13.3"
  }
 },
 "nbformat": 4,
 "nbformat_minor": 5
}
